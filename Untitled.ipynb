{
 "cells": [
  {
   "cell_type": "code",
   "execution_count": 125,
   "metadata": {},
   "outputs": [],
   "source": [
    "import numpy as np\n",
    "import copy"
   ]
  },
  {
   "cell_type": "code",
   "execution_count": 126,
   "metadata": {},
   "outputs": [],
   "source": [
    "from ga_tree.btree import Bin_tree"
   ]
  },
  {
   "cell_type": "code",
   "execution_count": 127,
   "metadata": {},
   "outputs": [],
   "source": [
    "\n",
    "def swap_parents(node1, node2, tree1, tree2):\n",
    "    \"\"\"remaps the parents of two randomly selected nodes\"\"\"\n",
    "    parent_node1, left_node1, right_node1, val_node1, coeff_node1, op_node1, num_children_node1, name_node1, depth_n1 = get_relatives(\n",
    "        node1\n",
    "    )\n",
    "    parent_node2, left_node2, right_node2, val_node2, coeff_node2, op_node2, num_children_node2, name_node2, depth_n2 = get_relatives(\n",
    "        node2\n",
    "    )\n",
    "\n",
    "    # update indeces\n",
    "    # get parents of nodes\n",
    "    # d = int(node1.index) - 1    # subtract 1 because all indeces start at 1\n",
    "    # e = int(node2.index) - 1\n",
    "    # p1 = tree1.node_list[d].parent\n",
    "    # p2 = tree2.node_list[e].parent\n",
    "    # pi1 = tree1.node_list.index(node1.parent)\n",
    "    # pi2 = tree2.node_list.index(node2.parent)\n",
    "    # p1 = tree1.node_list[pi1]\n",
    "    # p2 = tree2.node_list[pi2]\n",
    "    # make nodes point to new parents\n",
    "    if node1.name != \"root\":\n",
    "        pi1 = tree1.node_list.index(node1.parent)\n",
    "        p1 = tree1.node_list[pi1]\n",
    "        node1.parent = p1\n",
    "    if node2.name != \"root\":\n",
    "        pi2 = tree2.node_list.index(node2.parent)\n",
    "        p2 = tree2.node_list[pi2]\n",
    "        node2.parent = p2\n",
    "\n",
    "    node1.coeff = coeff_node2\n",
    "    node1.value = val_node2\n",
    "    node1.left = left_node2\n",
    "    node1.right = right_node2\n",
    "    node1.op = op_node2\n",
    "    node1.num_children = num_children_node2\n",
    "    node1.depth = depth_n2\n",
    "\n",
    "    node2.coeff = coeff_node1\n",
    "    node2.value = val_node1\n",
    "    node2.left = left_node1\n",
    "    node2.right = right_node1\n",
    "    node2.op = op_node1\n",
    "    node2.num_children = num_children_node1\n",
    "    node2.depth = depth_n1"
   ]
  },
  {
   "cell_type": "code",
   "execution_count": 171,
   "metadata": {},
   "outputs": [],
   "source": [
    "# Define operators\n",
    "\n",
    "data_in = {}\n",
    "data_in['x'] = np.linspace(0, 2 * np.pi * 10, 10)\n",
    "data_in['y'] = np.linspace(0, 2 * np.pi * 10, 10)\n",
    "data_out = np.sin(data_in['x']) + np.sin(data_in['y'])\n",
    "\n",
    "unary_operands = ['sin', 'cos']\n",
    "binary_operands = ['+', '-', '*', '/']\n",
    "terminal_operands = [\"c\"] + list(data_in.keys())\n",
    "num_individuals=2\n",
    "# test to initialize Population\n",
    "delta = 0.24\n",
    "c = [0.1, 0.2]\n",
    "c.append(1 - sum(c))\n",
    "individuals = []\n",
    "for i in range(num_individuals):\n",
    "    a = Bin_tree(delta=delta, term=terminal_operands, unary=unary_operands, binary=binary_operands)\n",
    "    a.generate_tree(c)\n",
    "    individuals.append(a)\n",
    "    \n",
    "def get_relatives(node):\n",
    "    \"\"\"returns deep copy of node attributes\"\"\"\n",
    "    return copy.deepcopy(\n",
    "        [node.parent, node.left, node.right, node.value, node.coeff, node.op, node.num_children, node.name, node.depth]\n",
    "    )"
   ]
  },
  {
   "cell_type": "code",
   "execution_count": 192,
   "metadata": {},
   "outputs": [
    {
     "data": {
      "text/plain": [
       "[x, 1]"
      ]
     },
     "execution_count": 192,
     "metadata": {},
     "output_type": "execute_result"
    }
   ],
   "source": [
    "individuals"
   ]
  },
  {
   "cell_type": "code",
   "execution_count": 193,
   "metadata": {},
   "outputs": [],
   "source": [
    "for individual in individuals:\n",
    "    individual.reorder_whole_tree()"
   ]
  },
  {
   "cell_type": "code",
   "execution_count": 194,
   "metadata": {},
   "outputs": [],
   "source": [
    "swap_parents(np.random.choice(individuals[0].node_list), \n",
    "            np.random.choice(individuals[1].node_list),\n",
    "            individuals[0], individuals[1])"
   ]
  },
  {
   "cell_type": "code",
   "execution_count": 177,
   "metadata": {},
   "outputs": [
    {
     "data": {
      "text/plain": [
       "'x'"
      ]
     },
     "execution_count": 177,
     "metadata": {},
     "output_type": "execute_result"
    }
   ],
   "source": [
    "individuals[1].traverse()"
   ]
  },
  {
   "cell_type": "code",
   "execution_count": 198,
   "metadata": {},
   "outputs": [
    {
     "data": {
      "text/plain": [
       "'root'"
      ]
     },
     "execution_count": 198,
     "metadata": {},
     "output_type": "execute_result"
    }
   ],
   "source": [
    "individuals[1].node_list[0].name"
   ]
  },
  {
   "cell_type": "code",
   "execution_count": null,
   "metadata": {},
   "outputs": [],
   "source": []
  }
 ],
 "metadata": {
  "kernelspec": {
   "display_name": "Python 3",
   "language": "python",
   "name": "python3"
  },
  "language_info": {
   "codemirror_mode": {
    "name": "ipython",
    "version": 3
   },
   "file_extension": ".py",
   "mimetype": "text/x-python",
   "name": "python",
   "nbconvert_exporter": "python",
   "pygments_lexer": "ipython3",
   "version": "3.7.4"
  }
 },
 "nbformat": 4,
 "nbformat_minor": 2
}
