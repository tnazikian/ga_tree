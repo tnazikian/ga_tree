{
 "cells": [
  {
   "cell_type": "code",
   "execution_count": 20,
   "metadata": {},
   "outputs": [],
   "source": [
    "import numpy as np\n",
    "import copy"
   ]
  },
  {
   "cell_type": "code",
   "execution_count": 21,
   "metadata": {},
   "outputs": [],
   "source": [
    "from ga_tree.btree import Bin_tree"
   ]
  },
  {
   "cell_type": "code",
   "execution_count": 22,
   "metadata": {},
   "outputs": [],
   "source": [
    "\n",
    "def swap_parents(node1, node2, tree1, tree2):\n",
    "    \"\"\"remaps the parents of two randomly selected nodes\"\"\"\n",
    "    parent_node1, left_node1, right_node1, val_node1, coeff_node1, op_node1, num_children_node1, name_node1, depth_n1 = get_relatives(\n",
    "        node1\n",
    "    )\n",
    "    parent_node2, left_node2, right_node2, val_node2, coeff_node2, op_node2, num_children_node2, name_node2, depth_n2 = get_relatives(\n",
    "        node2\n",
    "    )\n",
    "\n",
    "    # update indeces\n",
    "    # get parents of nodes\n",
    "    # d = int(node1.index) - 1    # subtract 1 because all indeces start at 1\n",
    "    # e = int(node2.index) - 1\n",
    "    # p1 = tree1.node_list[d].parent\n",
    "    # p2 = tree2.node_list[e].parent\n",
    "    # pi1 = tree1.node_list.index(node1.parent)\n",
    "    # pi2 = tree2.node_list.index(node2.parent)\n",
    "    # p1 = tree1.node_list[pi1]\n",
    "    # p2 = tree2.node_list[pi2]\n",
    "    # make nodes point to new parents\n",
    "    if node1.name != \"root\":\n",
    "        pi1 = tree1.node_list.index(node1.parent)\n",
    "        p1 = tree1.node_list[pi1]\n",
    "        node1.parent = p1\n",
    "    if node2.name != \"root\":\n",
    "        pi2 = tree2.node_list.index(node2.parent)\n",
    "        p2 = tree2.node_list[pi2]\n",
    "        node2.parent = p2\n",
    "\n",
    "    node1.coeff = coeff_node2\n",
    "    node1.value = val_node2\n",
    "    node1.left = left_node2\n",
    "    node1.right = right_node2\n",
    "    node1.op = op_node2\n",
    "    node1.num_children = num_children_node2\n",
    "    node1.depth = depth_n2\n",
    "\n",
    "    node2.coeff = coeff_node1\n",
    "    node2.value = val_node1\n",
    "    node2.left = left_node1\n",
    "    node2.right = right_node1\n",
    "    node2.op = op_node1\n",
    "    node2.num_children = num_children_node1\n",
    "    node2.depth = depth_n1"
   ]
  },
  {
   "cell_type": "code",
   "execution_count": 64,
   "metadata": {},
   "outputs": [],
   "source": [
    "# Define operators\n",
    "\n",
    "data_in = {}\n",
    "data_in['x'] = np.linspace(0, 2 * np.pi * 10, 10)\n",
    "data_in['y'] = np.linspace(0, 2 * np.pi * 10, 10)\n",
    "data_out = np.sin(data_in['x']) + np.sin(data_in['y'])\n",
    "\n",
    "unary_operands = ['sin', 'cos']\n",
    "binary_operands = ['+', '-', '*', '/']\n",
    "terminal_operands = [\"c\"] + list(data_in.keys())\n",
    "num_individuals=2\n",
    "# test to initialize Population\n",
    "delta = 0.24\n",
    "c = [0.1, 0.2]\n",
    "c.append(1 - sum(c))\n",
    "individuals = []\n",
    "for i in range(num_individuals):\n",
    "    a = Bin_tree(delta=delta, term=terminal_operands, unary=unary_operands, binary=binary_operands)\n",
    "    a.generate_tree(c)\n",
    "    individuals.append(a)\n",
    "    \n",
    "def get_relatives(node):\n",
    "    \"\"\"returns deep copy of node attributes\"\"\"\n",
    "    return copy.deepcopy(\n",
    "        [node.parent, node.left, node.right, node.value, node.coeff, node.op, node.num_children, node.name, node.depth]\n",
    "    )"
   ]
  },
  {
   "cell_type": "code",
   "execution_count": 65,
   "metadata": {},
   "outputs": [
    {
     "data": {
      "text/plain": [
       "[((x*x)+(y+1)), 1]"
      ]
     },
     "execution_count": 65,
     "metadata": {},
     "output_type": "execute_result"
    }
   ],
   "source": [
    "individuals"
   ]
  },
  {
   "cell_type": "code",
   "execution_count": 66,
   "metadata": {},
   "outputs": [
    {
     "ename": "ValueError",
     "evalue": "(left: (left: None*x, op: *, right: None*x), op: +, right: (left: None*y, op: +, right: 1*None)) is not in list",
     "output_type": "error",
     "traceback": [
      "\u001b[1;31m---------------------------------------------------------------------------\u001b[0m",
      "\u001b[1;31mValueError\u001b[0m                                Traceback (most recent call last)",
      "\u001b[1;32m<ipython-input-66-497d8ccc3819>\u001b[0m in \u001b[0;36m<module>\u001b[1;34m\u001b[0m\n\u001b[0;32m      1\u001b[0m swap_parents(np.random.choice(individuals[0].node_list), \n\u001b[0;32m      2\u001b[0m             \u001b[0mnp\u001b[0m\u001b[1;33m.\u001b[0m\u001b[0mrandom\u001b[0m\u001b[1;33m.\u001b[0m\u001b[0mchoice\u001b[0m\u001b[1;33m(\u001b[0m\u001b[0mindividuals\u001b[0m\u001b[1;33m[\u001b[0m\u001b[1;36m0\u001b[0m\u001b[1;33m]\u001b[0m\u001b[1;33m.\u001b[0m\u001b[0mnode_list\u001b[0m\u001b[1;33m)\u001b[0m\u001b[1;33m,\u001b[0m\u001b[1;33m\u001b[0m\u001b[1;33m\u001b[0m\u001b[0m\n\u001b[1;32m----> 3\u001b[1;33m             individuals[0], individuals[1])\n\u001b[0m",
      "\u001b[1;32m<ipython-input-22-0d4bdffb9669>\u001b[0m in \u001b[0;36mswap_parents\u001b[1;34m(node1, node2, tree1, tree2)\u001b[0m\n\u001b[0;32m     27\u001b[0m         \u001b[0mnode1\u001b[0m\u001b[1;33m.\u001b[0m\u001b[0mparent\u001b[0m \u001b[1;33m=\u001b[0m \u001b[0mp1\u001b[0m\u001b[1;33m\u001b[0m\u001b[1;33m\u001b[0m\u001b[0m\n\u001b[0;32m     28\u001b[0m     \u001b[1;32mif\u001b[0m \u001b[0mnode2\u001b[0m\u001b[1;33m.\u001b[0m\u001b[0mname\u001b[0m \u001b[1;33m!=\u001b[0m \u001b[1;34m\"root\"\u001b[0m\u001b[1;33m:\u001b[0m\u001b[1;33m\u001b[0m\u001b[1;33m\u001b[0m\u001b[0m\n\u001b[1;32m---> 29\u001b[1;33m         \u001b[0mpi2\u001b[0m \u001b[1;33m=\u001b[0m \u001b[0mtree2\u001b[0m\u001b[1;33m.\u001b[0m\u001b[0mnode_list\u001b[0m\u001b[1;33m.\u001b[0m\u001b[0mindex\u001b[0m\u001b[1;33m(\u001b[0m\u001b[0mnode2\u001b[0m\u001b[1;33m.\u001b[0m\u001b[0mparent\u001b[0m\u001b[1;33m)\u001b[0m\u001b[1;33m\u001b[0m\u001b[1;33m\u001b[0m\u001b[0m\n\u001b[0m\u001b[0;32m     30\u001b[0m         \u001b[0mp2\u001b[0m \u001b[1;33m=\u001b[0m \u001b[0mtree2\u001b[0m\u001b[1;33m.\u001b[0m\u001b[0mnode_list\u001b[0m\u001b[1;33m[\u001b[0m\u001b[0mpi2\u001b[0m\u001b[1;33m]\u001b[0m\u001b[1;33m\u001b[0m\u001b[1;33m\u001b[0m\u001b[0m\n\u001b[0;32m     31\u001b[0m         \u001b[0mnode2\u001b[0m\u001b[1;33m.\u001b[0m\u001b[0mparent\u001b[0m \u001b[1;33m=\u001b[0m \u001b[0mp2\u001b[0m\u001b[1;33m\u001b[0m\u001b[1;33m\u001b[0m\u001b[0m\n",
      "\u001b[1;31mValueError\u001b[0m: (left: (left: None*x, op: *, right: None*x), op: +, right: (left: None*y, op: +, right: 1*None)) is not in list"
     ]
    }
   ],
   "source": [
    "swap_parents(np.random.choice(individuals[0].node_list), \n",
    "            np.random.choice(individuals[0].node_list),\n",
    "            individuals[0], individuals[1])"
   ]
  },
  {
   "cell_type": "code",
   "execution_count": 53,
   "metadata": {},
   "outputs": [
    {
     "data": {
      "text/plain": [
       "'left'"
      ]
     },
     "execution_count": 53,
     "metadata": {},
     "output_type": "execute_result"
    }
   ],
   "source": [
    "individuals[1].node_list[1].name"
   ]
  },
  {
   "cell_type": "code",
   "execution_count": null,
   "metadata": {},
   "outputs": [],
   "source": []
  }
 ],
 "metadata": {
  "kernelspec": {
   "display_name": "Python 3",
   "language": "python",
   "name": "python3"
  },
  "language_info": {
   "codemirror_mode": {
    "name": "ipython",
    "version": 3
   },
   "file_extension": ".py",
   "mimetype": "text/x-python",
   "name": "python",
   "nbconvert_exporter": "python",
   "pygments_lexer": "ipython3",
   "version": "3.7.4"
  }
 },
 "nbformat": 4,
 "nbformat_minor": 2
}
