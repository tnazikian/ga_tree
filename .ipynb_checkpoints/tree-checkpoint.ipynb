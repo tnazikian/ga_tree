{
 "cells": [
  {
   "cell_type": "code",
   "execution_count": 10,
   "metadata": {},
   "outputs": [],
   "source": [
    "from math import *\n",
    "import numpy as np\n",
    "\n",
    "def traverse(tree,string=''):\n",
    "    if tree.num_children == 1:\n",
    "        string += (tree.op)\n",
    "        string += ('('+str(tree.coeff)+'*'+traverse(tree.left)+')')\n",
    "    elif tree.num_children==2:\n",
    "        string += ('('+traverse(tree.left)+')')\n",
    "        string += (tree.op)\n",
    "        string += ('('+traverse(tree.right)+')')\n",
    "    else:\n",
    "        string += '('+str(tree.coeff) + '*' + str(tree.value)+')'\n",
    "    return string"
   ]
  },
  {
   "cell_type": "code",
   "execution_count": 11,
   "metadata": {},
   "outputs": [],
   "source": [
    "# intermediate_operands = ['sin', 'cos', 'exp', 'np.log', '+', '*']\n",
    "# unary_operands = ['sin', 'cos', 'np.log', 'exp']\n",
    "unary_operands = ['sin', 'cos', 'np.log']\n",
    "binary_operands = ['*', '/', '+', '-', '**']\n",
    "# terminal_operands = [\"var1\", \"1\"]\n",
    "terminal_operands = [\"1\"]\n",
    "coeff_max = 3\n",
    "\n"
   ]
  },
  {
   "cell_type": "code",
   "execution_count": 70,
   "metadata": {},
   "outputs": [],
   "source": [
    "class PrintTree:\n",
    "    \"\"\"source: https://ebadahmadzadeh.wordpress.com/2014/02/26/how-to-print-a-dictionary-based-tree-in-python/\"\"\"\n",
    "    def printTree(self, tree, d = 0):\n",
    "        if (tree.num_children == 0):\n",
    "            print(\"\\t\" * d, tree.index, tree.value)\n",
    "        else:\n",
    "            print( \"\\t\" * d, tree.index, tree.name, tree.op)\n",
    "            for i in [tree.left, tree.right]:\n",
    "                if i != None:\n",
    "                    self.printTree(i, d+1)\n",
    "#                 else:\n",
    "#                     print (\"\\t\" * d, str('(') + \"f\" + str(')'))"
   ]
  },
  {
   "cell_type": "code",
   "execution_count": 71,
   "metadata": {},
   "outputs": [
    {
     "ename": "NameError",
     "evalue": "name 'generate_tree' is not defined",
     "output_type": "error",
     "traceback": [
      "\u001b[1;31m---------------------------------------------------------------------------\u001b[0m",
      "\u001b[1;31mNameError\u001b[0m                                 Traceback (most recent call last)",
      "\u001b[1;32m<ipython-input-71-6f4b15bfaabf>\u001b[0m in \u001b[0;36m<module>\u001b[1;34m\u001b[0m\n\u001b[0;32m      2\u001b[0m     \u001b[0mn1\u001b[0m \u001b[1;33m=\u001b[0m \u001b[0mnode\u001b[0m\u001b[1;33m(\u001b[0m\u001b[1;32mNone\u001b[0m\u001b[1;33m,\u001b[0m \u001b[1;36m1\u001b[0m\u001b[1;33m,\u001b[0m \u001b[1;34m\"root\"\u001b[0m\u001b[1;33m)\u001b[0m\u001b[1;33m\u001b[0m\u001b[1;33m\u001b[0m\u001b[0m\n\u001b[0;32m      3\u001b[0m     \u001b[0mp\u001b[0m \u001b[1;33m=\u001b[0m \u001b[0mPrintTree\u001b[0m\u001b[1;33m(\u001b[0m\u001b[1;33m)\u001b[0m\u001b[1;33m\u001b[0m\u001b[1;33m\u001b[0m\u001b[0m\n\u001b[1;32m----> 4\u001b[1;33m     \u001b[0mgenerate_tree\u001b[0m\u001b[1;33m(\u001b[0m\u001b[0mn1\u001b[0m\u001b[1;33m,\u001b[0m \u001b[1;33m[\u001b[0m\u001b[1;36m0.2\u001b[0m\u001b[1;33m,\u001b[0m \u001b[1;36m0.4\u001b[0m\u001b[1;33m,\u001b[0m \u001b[1;36m0.4\u001b[0m\u001b[1;33m]\u001b[0m\u001b[1;33m,\u001b[0m \u001b[1;36m0.08\u001b[0m\u001b[1;33m)\u001b[0m\u001b[1;33m\u001b[0m\u001b[1;33m\u001b[0m\u001b[0m\n\u001b[0m\u001b[0;32m      5\u001b[0m \u001b[1;31m#     eval(traverse(n1))\u001b[0m\u001b[1;33m\u001b[0m\u001b[1;33m\u001b[0m\u001b[1;33m\u001b[0m\u001b[0m\n\u001b[0;32m      6\u001b[0m     \u001b[1;32mtry\u001b[0m\u001b[1;33m:\u001b[0m\u001b[1;33m\u001b[0m\u001b[1;33m\u001b[0m\u001b[0m\n",
      "\u001b[1;31mNameError\u001b[0m: name 'generate_tree' is not defined"
     ]
    }
   ],
   "source": [
    "for i in range(100):\n",
    "    n1 = node(None, 1, \"root\")\n",
    "    p = PrintTree()\n",
    "    generate_tree(n1, [0.2, 0.4, 0.4], 0.08)\n",
    "#     eval(traverse(n1))\n",
    "    try:\n",
    "        eval(traverse(n1))\n",
    "    except:\n",
    "        print(n1)\n",
    "        print(traverse(n1))\n",
    "        break\n",
    "#     print(n1)\n",
    "#     print(traverse(n1))\n",
    "#     print(p.printTree(n1))\n",
    "#     print(n1)"
   ]
  },
  {
   "cell_type": "code",
   "execution_count": 138,
   "metadata": {},
   "outputs": [],
   "source": [
    "class bin_tree():\n",
    "    def __init__(self):\n",
    "        self.root = node(\"root\")\n",
    "        self.num_nodes = 0\n",
    "        self.node_list = []\n",
    "        \n",
    "    def generate_tree(self, node, r_coeffs, delta):\n",
    "        \"generates tree recursively from a starter node\"\n",
    "        self.num_nodes += 1\n",
    "        node.index = self.num_nodes\n",
    "        self.node_list.append(node)\n",
    "        r = np.random.rand()\n",
    "        c = r_coeffs\n",
    "        #decrease p(double branch) while\n",
    "        #increase p(no branch)\n",
    "        c[0] += delta\n",
    "        c[1] -= delta/2\n",
    "        c[2] -= delta/2\n",
    "        if r < r_coeffs[0]:\n",
    "            node.coeff = np.random.uniform(coeff_max)\n",
    "            node.value = np.random.choice(terminal_operands)\n",
    "        elif r > r_coeffs[0] and r < r_coeffs[1]:\n",
    "            node.init_left()\n",
    "            node.op = np.random.choice(unary_operands)\n",
    "            node.coeff = np.random.uniform(coeff_max)\n",
    "            self.generate_tree(node.left, c, delta)\n",
    "        else:\n",
    "            node.init_left()\n",
    "            node.init_right()\n",
    "            node.op = np.random.choice(binary_operands)\n",
    "            node.coeff = 1\n",
    "\n",
    "            self.generate_tree(node.left, c, delta) \n",
    "            self.generate_tree(node.right, c, delta)\n",
    "    \n",
    "            \n",
    "    def get_root(self):\n",
    "        return self.root\n",
    "            \n",
    "    def __repr__(self):\n",
    "        return traverse(self.root)"
   ]
  },
  {
   "cell_type": "code",
   "execution_count": 139,
   "metadata": {},
   "outputs": [],
   "source": [
    "class node():\n",
    "    \n",
    "#     def __init__(self, index, name, parent=None):\n",
    "#         self.name = name\n",
    "#         self.num_children=0\n",
    "#         self.index=index\n",
    "#         self._left=None\n",
    "#         self._right=None\n",
    "#         self._op=None\n",
    "#         self.coeff=None\n",
    "#         self._value = None\n",
    "#         self.parent = parent\n",
    "        \n",
    "#     def init_left(self, index):\n",
    "#         left_node = node(index, \"left\", parent=self)\n",
    "#         self.left = left_node\n",
    "#         self.num_children += 1\n",
    "        \n",
    "#     def init_right(self, index):\n",
    "#         right_node = node(index, \"right\", parent=self)\n",
    "#         self.right = right_node\n",
    "#         self.num_children += 1 \n",
    "\n",
    "\n",
    "    def __init__(self, name, parent=None):\n",
    "        self.name = name\n",
    "        self.num_children=0\n",
    "        self.index=None\n",
    "        self._left=None\n",
    "        self._right=None\n",
    "        self._op=None\n",
    "        self.coeff=None\n",
    "        self._value = None\n",
    "        self.parent = parent\n",
    "        \n",
    "    def init_left(self):\n",
    "        left_node = node(\"left\", parent=self)\n",
    "        self.left = left_node\n",
    "        self.num_children += 1\n",
    "        \n",
    "    def init_right(self):\n",
    "        right_node = node(\"right\", parent=self)\n",
    "        self.right = right_node\n",
    "        self.num_children += 1 \n",
    "    \n",
    "    @property    \n",
    "    def left(self):\n",
    "        return self._left\n",
    "    \n",
    "    @property    \n",
    "    def right(self):\n",
    "        return self._right\n",
    "    \n",
    "    @property    \n",
    "    def op(self):\n",
    "        return self._op\n",
    "    \n",
    "    @property    \n",
    "    def value(self):\n",
    "        return self._value\n",
    "    \n",
    "    @value.setter\n",
    "    def value(self, val):\n",
    "        self._value = val\n",
    "    \n",
    "    @left.setter\n",
    "    def left(self, node):\n",
    "        self._left = node\n",
    "    \n",
    "    @right.setter\n",
    "    def right(self, node):\n",
    "        self._right = node\n",
    "\n",
    "    @op.setter\n",
    "    def op(self, op):\n",
    "        self._op = op\n",
    "    \n",
    "    def __repr__(self):\n",
    "        if self.num_children > 0:\n",
    "            return \"(left: {}, op: {}, right: {})\".format(\n",
    "                self.left, self.op, self.right)\n",
    "        return \"{}*{}\".format(self.coeff, self.value)"
   ]
  },
  {
   "cell_type": "code",
   "execution_count": 140,
   "metadata": {},
   "outputs": [
    {
     "ename": "TypeError",
     "evalue": "init_left() takes 1 positional argument but 2 were given",
     "output_type": "error",
     "traceback": [
      "\u001b[1;31m---------------------------------------------------------------------------\u001b[0m",
      "\u001b[1;31mTypeError\u001b[0m                                 Traceback (most recent call last)",
      "\u001b[1;32m<ipython-input-140-c3cf60dd9179>\u001b[0m in \u001b[0;36m<module>\u001b[1;34m\u001b[0m\n\u001b[0;32m      4\u001b[0m \u001b[1;31m# print(start)\u001b[0m\u001b[1;33m\u001b[0m\u001b[1;33m\u001b[0m\u001b[1;33m\u001b[0m\u001b[0m\n\u001b[0;32m      5\u001b[0m \u001b[0ma\u001b[0m \u001b[1;33m=\u001b[0m \u001b[0mnode\u001b[0m\u001b[1;33m(\u001b[0m\u001b[1;36m1\u001b[0m\u001b[1;33m,\u001b[0m \u001b[1;34m\"asdf\"\u001b[0m\u001b[1;33m)\u001b[0m\u001b[1;33m\u001b[0m\u001b[1;33m\u001b[0m\u001b[0m\n\u001b[1;32m----> 6\u001b[1;33m \u001b[0ma\u001b[0m\u001b[1;33m.\u001b[0m\u001b[0minit_left\u001b[0m\u001b[1;33m(\u001b[0m\u001b[1;36m2\u001b[0m\u001b[1;33m)\u001b[0m\u001b[1;33m\u001b[0m\u001b[1;33m\u001b[0m\u001b[0m\n\u001b[0m\u001b[0;32m      7\u001b[0m \u001b[0ma\u001b[0m\u001b[1;33m.\u001b[0m\u001b[0minit_right\u001b[0m\u001b[1;33m(\u001b[0m\u001b[1;36m3\u001b[0m\u001b[1;33m)\u001b[0m\u001b[1;33m\u001b[0m\u001b[1;33m\u001b[0m\u001b[0m\n",
      "\u001b[1;31mTypeError\u001b[0m: init_left() takes 1 positional argument but 2 were given"
     ]
    }
   ],
   "source": [
    "# start = node(None, 1)\n",
    "# start.init_left()\n",
    "# start.init_right()\n",
    "# print(start)\n",
    "a = node(1, \"asdf\")\n",
    "a.init_left(2)\n",
    "a.init_right(3)"
   ]
  },
  {
   "cell_type": "code",
   "execution_count": 146,
   "metadata": {},
   "outputs": [
    {
     "data": {
      "text/plain": [
       "(1.700809975025402e+19-1.4362249447999616e+21j)"
      ]
     },
     "execution_count": 146,
     "metadata": {},
     "output_type": "execute_result"
    }
   ],
   "source": [
    "a = bin_tree()\n",
    "\n",
    "a.generate_tree(a.get_root(), [0.2, 0.4, 0.4], 0.04)\n",
    "\n",
    "eval(traverse(a.get_root()))"
   ]
  },
  {
   "cell_type": "code",
   "execution_count": 147,
   "metadata": {},
   "outputs": [
    {
     "name": "stdout",
     "output_type": "stream",
     "text": [
      " 1 root **\n",
      "\t 2 left *\n",
      "\t\t 3 left **\n",
      "\t\t\t 4 left **\n",
      "\t\t\t\t 5 left **\n",
      "\t\t\t\t\t 6 left -\n",
      "\t\t\t\t\t\t 7 left +\n",
      "\t\t\t\t\t\t\t 8 1\n",
      "\t\t\t\t\t\t\t 9 1\n",
      "\t\t\t\t\t\t 10 right *\n",
      "\t\t\t\t\t\t\t 11 1\n",
      "\t\t\t\t\t\t\t 12 right *\n",
      "\t\t\t\t\t\t\t\t 13 left +\n",
      "\t\t\t\t\t\t\t\t\t 14 1\n",
      "\t\t\t\t\t\t\t\t\t 15 1\n",
      "\t\t\t\t\t\t\t\t 16 1\n",
      "\t\t\t\t\t 17 1\n",
      "\t\t\t\t 18 1\n",
      "\t\t\t 19 1\n",
      "\t\t 20 1\n",
      "\t 21 1\n"
     ]
    }
   ],
   "source": [
    "p.printTree(a.get_root())"
   ]
  },
  {
   "cell_type": "code",
   "execution_count": 149,
   "metadata": {},
   "outputs": [
    {
     "data": {
      "text/plain": [
       "21"
      ]
     },
     "execution_count": 149,
     "metadata": {},
     "output_type": "execute_result"
    }
   ],
   "source": [
    "len(a.node_list)"
   ]
  },
  {
   "cell_type": "code",
   "execution_count": 135,
   "metadata": {},
   "outputs": [],
   "source": [
    "def traverse_index(tree, a):\n",
    "    tree.index = a\n",
    "    if tree.num_children == 1:\n",
    "        tree.index = a\n",
    "        a += 1\n",
    "        traverse_index(tree.left, a)\n",
    "    elif tree.num_children==2:\n",
    "        tree.index = a\n",
    "        a += 1\n",
    "        traverse_index(tree.left, a)\n",
    "        a += 1\n",
    "        traverse_index(tree.right, a)\n",
    "\n",
    "        "
   ]
  },
  {
   "cell_type": "code",
   "execution_count": 128,
   "metadata": {},
   "outputs": [
    {
     "name": "stdout",
     "output_type": "stream",
     "text": [
      " 1 1\n"
     ]
    }
   ],
   "source": [
    "# g = bin_tree()\n",
    "\n",
    "# g.generate_tree(g.get_root(), [0.2, 0.4, 0.4], 0.04)\n",
    "\n",
    "# a=1\n",
    "s=1\n",
    "traverse_index(a.get_root(), s)\n",
    "p.printTree(a.get_root())"
   ]
  },
  {
   "cell_type": "code",
   "execution_count": null,
   "metadata": {},
   "outputs": [],
   "source": []
  }
 ],
 "metadata": {
  "kernelspec": {
   "display_name": "Python 3",
   "language": "python",
   "name": "python3"
  },
  "language_info": {
   "codemirror_mode": {
    "name": "ipython",
    "version": 3
   },
   "file_extension": ".py",
   "mimetype": "text/x-python",
   "name": "python",
   "nbconvert_exporter": "python",
   "pygments_lexer": "ipython3",
   "version": "3.7.4"
  }
 },
 "nbformat": 4,
 "nbformat_minor": 2
}
