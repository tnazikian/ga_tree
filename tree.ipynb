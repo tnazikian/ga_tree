{
 "cells": [
  {
   "cell_type": "code",
   "execution_count": 2,
   "metadata": {},
   "outputs": [],
   "source": [
    "from math import *\n",
    "import numpy as np\n",
    "import re\n",
    "from collections import OrderedDict\n",
    "\n",
    "# def traverse(node,string=''):\n",
    "#     if isinstance(node, bin_tree):\n",
    "#         node=node.get_root()  \n",
    "#         # if unary\n",
    "#     if node.num_children == 1:\n",
    "#         string += (node.op)\n",
    "#         if node.coeff == None:\n",
    "#             string += ('('+traverse(node.left)+')')\n",
    "#         else:    \n",
    "#             string += ('('+str(node.coeff)+'*'+traverse(node.left)+')')\n",
    "#     # if binary\n",
    "#     elif node.num_children==2:\n",
    "#         string += '('+traverse(node.left)\n",
    "#         string += node.op\n",
    "#         string += traverse(node.right)+')'\n",
    "    \n",
    "#     # if leaf node\n",
    "#     else:    \n",
    "#         if node.coeff == None:\n",
    "#             string += str(node.value)\n",
    "#         # if constant leaf node, will only have coefficient\n",
    "#         elif node.value == None:\n",
    "#             string += str(node.coeff)\n",
    "#         else:\n",
    "#             string += '('+str(node.coeff) + '*' + str(node.value)+')'\n",
    "#     return string"
   ]
  },
  {
   "cell_type": "code",
   "execution_count": 3,
   "metadata": {},
   "outputs": [],
   "source": [
    "# intermediate_operands = ['sin', 'cos', 'exp', 'np.log', '+', '*']\n",
    "# unary_operands = ['sin', 'cos', 'np.log', 'exp']\n",
    "# unary_operands = ['sin', 'cos', 'np.log']\n",
    "# binary_operands = ['*', '/', '+', '-', '**']\n",
    "unary_operands = ['sin', 'cos']\n",
    "binary_operands = ['+']\n",
    "# terminal_operands = [\"var1\", \"1\"]\n",
    "# terminal_operands = [\"c\", \"var1\"]\n",
    "terminal_operands = [\"c\", \"x\", \"y\", \"z\"]\n",
    "COEFF_MAX = 3\n",
    "\n"
   ]
  },
  {
   "cell_type": "code",
   "execution_count": 4,
   "metadata": {},
   "outputs": [],
   "source": [
    "class PrintTree:\n",
    "    \"\"\"source: https://ebadahmadzadeh.wordpress.com/2014/02/26/how-to-print-a-dictionary-based-tree-in-python/\"\"\"\n",
    "    def printTree(self, tree, d = 0):\n",
    "        if (tree.num_children == 0):\n",
    "            if tree.value is None:\n",
    "                print(\"\\t\" * d, tree.index, tree.name, tree.coeff)\n",
    "            else:\n",
    "                if tree.coeff is not None:\n",
    "                    print(\"\\t\" * d, tree.index, tree.name, tree.coeff + '*' + tree.value)\n",
    "                else:\n",
    "                    print(\"\\t\" * d, tree.index, tree.name, tree.value)\n",
    "        else:\n",
    "            if tree.coeff is None:\n",
    "                print( \"\\t\" * d, tree.index, tree.name, tree.op)\n",
    "            else:\n",
    "                print( \"\\t\" * d, tree.index, tree.name, tree.op, tree.coeff)\n",
    "            for i in [tree.left, tree.right]:\n",
    "                if i != None:\n",
    "                    self.printTree(i, d+1)\n",
    "#                 else:\n",
    "#                     print (\"\\t\" * d, str('(') + \"f\" + str(')'))"
   ]
  },
  {
   "cell_type": "code",
   "execution_count": 5,
   "metadata": {},
   "outputs": [
    {
     "ename": "NameError",
     "evalue": "name 'node' is not defined",
     "output_type": "error",
     "traceback": [
      "\u001b[1;31m---------------------------------------------------------------------------\u001b[0m",
      "\u001b[1;31mNameError\u001b[0m                                 Traceback (most recent call last)",
      "\u001b[1;32m<ipython-input-5-6f4b15bfaabf>\u001b[0m in \u001b[0;36m<module>\u001b[1;34m\u001b[0m\n\u001b[0;32m      1\u001b[0m \u001b[1;32mfor\u001b[0m \u001b[0mi\u001b[0m \u001b[1;32min\u001b[0m \u001b[0mrange\u001b[0m\u001b[1;33m(\u001b[0m\u001b[1;36m100\u001b[0m\u001b[1;33m)\u001b[0m\u001b[1;33m:\u001b[0m\u001b[1;33m\u001b[0m\u001b[1;33m\u001b[0m\u001b[0m\n\u001b[1;32m----> 2\u001b[1;33m     \u001b[0mn1\u001b[0m \u001b[1;33m=\u001b[0m \u001b[0mnode\u001b[0m\u001b[1;33m(\u001b[0m\u001b[1;32mNone\u001b[0m\u001b[1;33m,\u001b[0m \u001b[1;36m1\u001b[0m\u001b[1;33m,\u001b[0m \u001b[1;34m\"root\"\u001b[0m\u001b[1;33m)\u001b[0m\u001b[1;33m\u001b[0m\u001b[1;33m\u001b[0m\u001b[0m\n\u001b[0m\u001b[0;32m      3\u001b[0m     \u001b[0mp\u001b[0m \u001b[1;33m=\u001b[0m \u001b[0mPrintTree\u001b[0m\u001b[1;33m(\u001b[0m\u001b[1;33m)\u001b[0m\u001b[1;33m\u001b[0m\u001b[1;33m\u001b[0m\u001b[0m\n\u001b[0;32m      4\u001b[0m     \u001b[0mgenerate_tree\u001b[0m\u001b[1;33m(\u001b[0m\u001b[0mn1\u001b[0m\u001b[1;33m,\u001b[0m \u001b[1;33m[\u001b[0m\u001b[1;36m0.2\u001b[0m\u001b[1;33m,\u001b[0m \u001b[1;36m0.4\u001b[0m\u001b[1;33m,\u001b[0m \u001b[1;36m0.4\u001b[0m\u001b[1;33m]\u001b[0m\u001b[1;33m,\u001b[0m \u001b[1;36m0.08\u001b[0m\u001b[1;33m)\u001b[0m\u001b[1;33m\u001b[0m\u001b[1;33m\u001b[0m\u001b[0m\n\u001b[0;32m      5\u001b[0m \u001b[1;31m#     eval(traverse(n1))\u001b[0m\u001b[1;33m\u001b[0m\u001b[1;33m\u001b[0m\u001b[1;33m\u001b[0m\u001b[0m\n",
      "\u001b[1;31mNameError\u001b[0m: name 'node' is not defined"
     ]
    }
   ],
   "source": [
    "for i in range(100):\n",
    "    n1 = node(None, 1, \"root\")\n",
    "    p = PrintTree()\n",
    "    generate_tree(n1, [0.2, 0.4, 0.4], 0.08)\n",
    "#     eval(traverse(n1))\n",
    "    try:\n",
    "        eval(traverse(n1))\n",
    "    except:\n",
    "        print(n1)\n",
    "        print(traverse(n1))\n",
    "        break\n",
    "#     print(n1)\n",
    "#     print(traverse(n1))\n",
    "#     print(p.printTree(n1))\n",
    "#     print(n1)"
   ]
  },
  {
   "cell_type": "code",
   "execution_count": 55,
   "metadata": {},
   "outputs": [],
   "source": [
    "from node import node\n",
    "import numpy as np\n",
    "\n",
    "TEST=False #Toggle if you want real numbers for coeffs\n",
    "import copy\n",
    "class bin_tree():\n",
    "    def __init__(self, delta, term, unary, binary, COEFF_MAX=3):\n",
    "        self.root = node(\"root\")\n",
    "        self.delta = delta\n",
    "        self.num_nodes = 0\n",
    "        self.node_list = []\n",
    "        self.coeff_list = []\n",
    "        self.terminal_operands = term\n",
    "        self.unary_operands = unary\n",
    "        self.binary_operands = binary\n",
    "        \n",
    "    def generate_tree(self, node, c):\n",
    "        \"\"\"\n",
    "        generates tree recursively from a starter node\n",
    "        \n",
    "        :param node: node object \n",
    "        \n",
    "        :param c: array containing probabilities: [P(0 children), P(Unary), P(Binary)]\n",
    "        \n",
    "        :param delta: amount by which c parameters increase/decrease per each level of tree\n",
    "        \n",
    "        :return out: String containing either None or \"constant\" - used to check if subtree is \n",
    "        a root node with a constant\n",
    "        \"\"\"\n",
    "        node.probs = c\n",
    "        \n",
    "        out = None # variable that tells whether node was constant or variable\n",
    "        self.num_nodes += 1\n",
    "        node.index = self.num_nodes\n",
    "        self.node_list.append(node)\n",
    "        r = np.random.rand()\n",
    "        #decrease p(double branch) while\n",
    "        #increase p(no branch)\n",
    "        c = copy.deepcopy(c)\n",
    "        c[0] += self.delta\n",
    "        c[1] -= self.delta/2\n",
    "        c[2] -= self.delta/2\n",
    "        # no operands\n",
    "        if r < c[0]:\n",
    "            node.num_children = 0\n",
    "#             node.coeff = np.random.uniform(coeff_max)\n",
    "            val = np.random.choice(self.terminal_operands)\n",
    "            # If a constant is chosen as a leaf node, then the c {index of node} is created\n",
    "            if val == \"c\":    \n",
    "                node.value = None\n",
    "                if TEST:\n",
    "                    node.coeff = val + str(node.index)\n",
    "                else:\n",
    "                    node.coeff = np.random.uniform(COEFF_MAX)\n",
    "                out = \"constant\"\n",
    "            else:\n",
    "                node.value = val\n",
    "        # unary operation\n",
    "        elif r > c[0] and (r - c[0]) < c[1]:\n",
    "            node.init_left()\n",
    "            node.num_children = 1\n",
    "            node.op = np.random.choice(self.unary_operands)\n",
    "#             node.coeff = np.random.uniform(coeff_max)\n",
    "            self.generate_tree(node.left, c)\n",
    "        # binary\n",
    "        else:\n",
    "            node.init_left()\n",
    "            node.init_right()\n",
    "            node.num_children = 2\n",
    "            node.op = np.random.choice(self.binary_operands)\n",
    "            left = self.generate_tree(node.left, c) \n",
    "            right = self.generate_tree(node.right, c)\n",
    "            # If the left and right children are constants, then convert current node into leaf node\n",
    "            if left == \"constant\" and right == \"constant\":\n",
    "                # erase children and assign evaluated value \n",
    "                node.value = None\n",
    "                if TEST:\n",
    "                    node.coeff = \"c\" + str(node.index)\n",
    "                else:\n",
    "                    node.coeff = eval(str(node.left.coeff)+node.op+str(node.right.coeff))\n",
    "                out = \"constant\"\n",
    "                node.left=None\n",
    "                node.right=None\n",
    "                node.num_children = 0\n",
    "                \n",
    "            # if one branch is constant and operator is '*', store constant\n",
    "            # as attribute of other branch, and replace current node with \n",
    "            # the child node. \n",
    "            elif (left == \"constant\" or right == \"constant\") and (node.op == \"*\" or node.op == \"/\"):\n",
    "                if left == \"constant\":\n",
    "                    if TEST:\n",
    "                        node.right.coeff = 'c'+str(node.index)\n",
    "                    else:\n",
    "                        node.right.coeff = np.random.uniform(COEFF_MAX)\n",
    "                    node.right.parent = node.parent\n",
    "                    # parent node points to child of current node\n",
    "                    # so that child can replace current node\n",
    "                    if node.name != \"root\":\n",
    "                        if node.name == \"left\":\n",
    "                            node.parent.left = node.right\n",
    "                        else:\n",
    "                            node.parent.right = node.right\n",
    "                    node.right.name = node.name\n",
    "                    node.right.index = node.index\n",
    "                else:\n",
    "                    if TEST:\n",
    "                        node.left.coeff = 'c'+str(node.index)\n",
    "                    else:\n",
    "                        node.left.coeff = np.random.uniform(COEFF_MAX)\n",
    "                    node.left.parent = node.parent\n",
    "                    if node.name != \"root\":\n",
    "                        if node.name == \"left\":\n",
    "                            node.parent.left = node.left\n",
    "                        else:\n",
    "                            node.parent.right = node.left\n",
    "                    node.left.name = node.name\n",
    "                    node.left.index = node.index\n",
    "        \n",
    "            # If operator is * or /, then combine the coefficients of both branches\n",
    "            elif (left != \"constant\" and right != \"constant\") and (node.op == \"*\" or node.op == \"/\"):\n",
    "                node.coeff = \"c\"+str(node.index)\n",
    "                node.left.coeff = None\n",
    "                node.right.coeff = None\n",
    "\n",
    "        self.reorder_whole_tree()        \n",
    "        return out\n",
    "            \n",
    "    def get_root(self):\n",
    "        return self.root \n",
    "            \n",
    "    def __repr__(self):\n",
    "        return self.traverse(self.get_root())\n",
    "    \n",
    "    def print_tree(self):\n",
    "        pass\n",
    "    \n",
    "    def del_subtree(self, node):\n",
    "        if node.name == \"left\":\n",
    "            node.parent.left = None\n",
    "        elif node.name == \"right\":\n",
    "            node.parent.right = None\n",
    "        self.reorder_whole_tree()\n",
    "    \n",
    "    def mutate_node(self, n):\n",
    "        \"\"\"takes in either a node or node index, and constructs\n",
    "        a new tree from that point.\"\"\"\n",
    "        if isinstance(n, node):\n",
    "            self.generate_tree(n, n.probs)\n",
    "        elif isinstance(n, int):\n",
    "            self.generate_tree(self.node_list[n], self.node_list[n].probs)\n",
    "        self.reorder_whole_tree()\n",
    "\n",
    "    def traverse(self, node=None, string=\"\"):\n",
    "        if node is None:\n",
    "            node = self.get_root()\n",
    "        if node.num_children == 1:\n",
    "            string += (node.op)\n",
    "            if node.coeff == None:\n",
    "                string += ('('+self.traverse(node.left)+')')\n",
    "            else:    \n",
    "                string += ('('+str(node.coeff)+'*'+self.traverse(node.left)+')')\n",
    "        # if binary\n",
    "        elif node.num_children==2:\n",
    "            string += '('+self.traverse(node.left)\n",
    "            string += node.op\n",
    "            string += self.traverse(node.right)+')'\n",
    "\n",
    "        # if leaf node\n",
    "        else:    \n",
    "            if node.coeff == None:\n",
    "                string += str(node.value)\n",
    "            # if constant leaf node, will only have coefficient\n",
    "            elif node.value == None:\n",
    "                string += str(node.coeff)\n",
    "            else:\n",
    "                string += '('+str(node.coeff) + '*' + str(node.value)+')'\n",
    "        return string\n",
    "    \n",
    "    def index_tree(self, node):\n",
    "        \"\"\"depth wise travels down tree and indexes each node. returns list of nodes in same order\"\"\"\n",
    "        self.node_list.append(node)\n",
    "        node.index = self.num_nodes\n",
    "        self.num_nodes += 1\n",
    "        for i in [node.left, node.right]:\n",
    "            if i is not None:\n",
    "                self.index_tree(i)\n",
    "                \n",
    "    def reorder_whole_tree(self):\n",
    "        self.num_nodes = 0\n",
    "        self.node_list = []\n",
    "        self.index_tree(self.get_root())   \n",
    "        \n",
    "    def mse_fitness(self, data, y):\n",
    "        \"\"\"Uses mean square error to generate a fitness score\n",
    "        Use for tuning coeffs after functional form determined\"\"\"\n",
    "        f = 0\n",
    "        # find all columns that are in tree\n",
    "        datacols=data.columns\n",
    "        # Get subset of data with only these \n",
    "        \n",
    "        text = self.traverse()\n",
    "        # Create a sorted list of variables that are present in function\n",
    "        x = [(text.find(i), i) for i in datacols]\n",
    "        # sort vars by order of appearance from left to right\n",
    "#         x.sort(key=lambda x: x[0])\n",
    "        vars_in_equation = [i[1] for i in x]\n",
    "#         #create data subset \n",
    "#         subset = data[vars_in_equation]\n",
    "        ind = 0\n",
    "        for i, row in data.iterrows():\n",
    "            text_c = text\n",
    "            for var in vars_in_equation:\n",
    "                text_c = text_c.replace(var, str(data[var][i]))\n",
    "            \n",
    "            try:\n",
    "                y_pred = eval(text_c)\n",
    "                (y[i]-y_pred)**2\n",
    "            except:\n",
    "                print(self.traverse())\n",
    "                print(self.node_list)\n",
    "                print(self.get_root().num_children)\n",
    "                raise\n",
    "            err = (y[i]-y_pred)**2\n",
    "            f += err\n",
    "        mean_error = f/len(data)\n",
    "        self.fitness = 1000*(1/(1+mean_error))\n",
    "        return self.fitness\n",
    "    \n",
    "    def var_fitness(self, data, y):\n",
    "        \"\"\"Uses F-test to generate fitness score\n",
    "        Use for determining functional form\"\"\"\n",
    "        pass"
   ]
  },
  {
   "cell_type": "code",
   "execution_count": 56,
   "metadata": {},
   "outputs": [],
   "source": [
    "class node():\n",
    "    \n",
    "#     def __init__(self, index, name, parent=None):\n",
    "#         self.name = name\n",
    "#         self.num_children=0\n",
    "#         self.index=index\n",
    "#         self._left=None\n",
    "#         self._right=None\n",
    "#         self._op=None\n",
    "#         self.coeff=None\n",
    "#         self._value = None\n",
    "#         self.parent = parent\n",
    "        \n",
    "#     def init_left(self, index):\n",
    "#         left_node = node(index, \"left\", parent=self)\n",
    "#         self.left = left_node\n",
    "#         self.num_children += 1\n",
    "        \n",
    "#     def init_right(self, index):\n",
    "#         right_node = node(index, \"right\", parent=self)\n",
    "#         self.right = right_node\n",
    "#         self.num_children += 1 \n",
    "\n",
    "\n",
    "    def __init__(self, name, parent=None):\n",
    "        self.name = name\n",
    "        self.num_children=0\n",
    "        self.index=None\n",
    "        self._left=None\n",
    "        self._right=None\n",
    "        self._op=None\n",
    "        self.coeff=None\n",
    "        self._value = None\n",
    "        self.probs = None\n",
    "        self.parent = parent\n",
    "        \n",
    "    def init_left(self):\n",
    "        left_node = node(\"left\", parent=self)\n",
    "        self.left = left_node\n",
    "        self.num_children += 1\n",
    "        \n",
    "    def init_right(self):\n",
    "        right_node = node(\"right\", parent=self)\n",
    "        self.right = right_node\n",
    "        self.num_children += 1 \n",
    "    \n",
    "    @property    \n",
    "    def left(self):\n",
    "        return self._left\n",
    "    \n",
    "    @property    \n",
    "    def right(self):\n",
    "        return self._right\n",
    "    \n",
    "    @property    \n",
    "    def op(self):\n",
    "        return self._op\n",
    "    \n",
    "    @property    \n",
    "    def value(self):\n",
    "        return self._value\n",
    "    \n",
    "    @value.setter\n",
    "    def value(self, val):\n",
    "        self._value = val\n",
    "    \n",
    "    @left.setter\n",
    "    def left(self, node):\n",
    "        self._left = node\n",
    "    \n",
    "    @right.setter\n",
    "    def right(self, node):\n",
    "        self._right = node\n",
    "\n",
    "    @op.setter\n",
    "    def op(self, op):\n",
    "        self._op = op\n",
    "        \n",
    "    def __repr__(self):\n",
    "        if self.num_children > 0:\n",
    "            return \"(left: {}, op: {}, right: {})\".format(\n",
    "                self.left, self.op, self.right)\n",
    "        return \"{}*{}\".format(self.coeff, self.value)"
   ]
  },
  {
   "cell_type": "code",
   "execution_count": 57,
   "metadata": {},
   "outputs": [
    {
     "ename": "TypeError",
     "evalue": "__init__() missing 3 required positional arguments: 'term', 'unary', and 'binary'",
     "output_type": "error",
     "traceback": [
      "\u001b[1;31m---------------------------------------------------------------------------\u001b[0m",
      "\u001b[1;31mTypeError\u001b[0m                                 Traceback (most recent call last)",
      "\u001b[1;32m<ipython-input-57-54ab9fcc0014>\u001b[0m in \u001b[0;36m<module>\u001b[1;34m\u001b[0m\n\u001b[0;32m      1\u001b[0m \u001b[1;32mfor\u001b[0m \u001b[0mi\u001b[0m \u001b[1;32min\u001b[0m \u001b[0mrange\u001b[0m\u001b[1;33m(\u001b[0m\u001b[1;36m10000\u001b[0m\u001b[1;33m)\u001b[0m\u001b[1;33m:\u001b[0m\u001b[1;33m\u001b[0m\u001b[1;33m\u001b[0m\u001b[0m\n\u001b[1;32m----> 2\u001b[1;33m     \u001b[0ma\u001b[0m \u001b[1;33m=\u001b[0m \u001b[0mbin_tree\u001b[0m\u001b[1;33m(\u001b[0m\u001b[0mdelta\u001b[0m\u001b[1;33m=\u001b[0m\u001b[1;36m0.12\u001b[0m\u001b[1;33m)\u001b[0m\u001b[1;33m\u001b[0m\u001b[1;33m\u001b[0m\u001b[0m\n\u001b[0m\u001b[0;32m      3\u001b[0m     \u001b[0mc\u001b[0m\u001b[1;33m=\u001b[0m\u001b[1;33m[\u001b[0m\u001b[1;36m0.1\u001b[0m\u001b[1;33m,\u001b[0m \u001b[1;36m0.2\u001b[0m\u001b[1;33m]\u001b[0m\u001b[1;33m\u001b[0m\u001b[1;33m\u001b[0m\u001b[0m\n\u001b[0;32m      4\u001b[0m     \u001b[0mc\u001b[0m\u001b[1;33m.\u001b[0m\u001b[0mappend\u001b[0m\u001b[1;33m(\u001b[0m\u001b[1;36m1\u001b[0m\u001b[1;33m-\u001b[0m\u001b[0msum\u001b[0m\u001b[1;33m(\u001b[0m\u001b[0mc\u001b[0m\u001b[1;33m)\u001b[0m\u001b[1;33m)\u001b[0m\u001b[1;33m\u001b[0m\u001b[1;33m\u001b[0m\u001b[0m\n\u001b[0;32m      5\u001b[0m     \u001b[0ma\u001b[0m\u001b[1;33m.\u001b[0m\u001b[0mgenerate_tree\u001b[0m\u001b[1;33m(\u001b[0m\u001b[0ma\u001b[0m\u001b[1;33m.\u001b[0m\u001b[0mget_root\u001b[0m\u001b[1;33m(\u001b[0m\u001b[1;33m)\u001b[0m\u001b[1;33m,\u001b[0m \u001b[0mc\u001b[0m\u001b[1;33m)\u001b[0m\u001b[1;33m\u001b[0m\u001b[1;33m\u001b[0m\u001b[0m\n",
      "\u001b[1;31mTypeError\u001b[0m: __init__() missing 3 required positional arguments: 'term', 'unary', and 'binary'"
     ]
    }
   ],
   "source": [
    "for i in range(10000):\n",
    "    a = bin_tree(delta=0.12)\n",
    "    c=[0.1, 0.2]\n",
    "    c.append(1-sum(c))\n",
    "    a.generate_tree(a.get_root(), c)\n",
    "    a.reorder_whole_tree()\n",
    "    p = PrintTree()\n",
    "#     print(eval(a.traverse()))\n",
    "    eval(a.traverse())\n"
   ]
  },
  {
   "cell_type": "code",
   "execution_count": 58,
   "metadata": {
    "scrolled": false
   },
   "outputs": [
    {
     "name": "stdout",
     "output_type": "stream",
     "text": [
      " 0 root sin\n",
      "\t 1 left +\n",
      "\t\t 2 left z\n",
      "\t\t 3 right z\n"
     ]
    }
   ],
   "source": [
    "p.printTree(a.get_root())"
   ]
  },
  {
   "cell_type": "code",
   "execution_count": 59,
   "metadata": {},
   "outputs": [],
   "source": [
    "a.mutate_node(0)"
   ]
  },
  {
   "cell_type": "code",
   "execution_count": 60,
   "metadata": {},
   "outputs": [
    {
     "name": "stdout",
     "output_type": "stream",
     "text": [
      " 0 root +\n",
      "\t 1 left +\n",
      "\t\t 2 left cy\n",
      "\t\t 3 right cout\n",
      "\t 4 right cout\n"
     ]
    }
   ],
   "source": [
    "p.printTree(a.get_root())"
   ]
  },
  {
   "cell_type": "code",
   "execution_count": 61,
   "metadata": {},
   "outputs": [],
   "source": [
    "# a.generate_tree(a.node_list[19], [0.1, 0.1, 0.8])"
   ]
  },
  {
   "cell_type": "code",
   "execution_count": 62,
   "metadata": {},
   "outputs": [
    {
     "name": "stdout",
     "output_type": "stream",
     "text": [
      " 0 root +\n",
      "\t 1 left +\n",
      "\t\t 2 left cy\n",
      "\t\t 3 right cout\n",
      "\t 4 right cout\n"
     ]
    }
   ],
   "source": [
    "p.printTree(a.get_root())"
   ]
  },
  {
   "cell_type": "code",
   "execution_count": 63,
   "metadata": {},
   "outputs": [
    {
     "ename": "TypeError",
     "evalue": "__init__() missing 3 required positional arguments: 'term', 'unary', and 'binary'",
     "output_type": "error",
     "traceback": [
      "\u001b[1;31m---------------------------------------------------------------------------\u001b[0m",
      "\u001b[1;31mTypeError\u001b[0m                                 Traceback (most recent call last)",
      "\u001b[1;32m<ipython-input-63-387334851edc>\u001b[0m in \u001b[0;36m<module>\u001b[1;34m\u001b[0m\n\u001b[0;32m      1\u001b[0m \u001b[1;31m#now to make the swap\u001b[0m\u001b[1;33m\u001b[0m\u001b[1;33m\u001b[0m\u001b[1;33m\u001b[0m\u001b[0m\n\u001b[0;32m      2\u001b[0m \u001b[1;33m\u001b[0m\u001b[0m\n\u001b[1;32m----> 3\u001b[1;33m \u001b[0ma\u001b[0m \u001b[1;33m=\u001b[0m \u001b[0mbin_tree\u001b[0m\u001b[1;33m(\u001b[0m\u001b[0mdelta\u001b[0m\u001b[1;33m=\u001b[0m\u001b[1;36m0.12\u001b[0m\u001b[1;33m)\u001b[0m\u001b[1;33m\u001b[0m\u001b[1;33m\u001b[0m\u001b[0m\n\u001b[0m\u001b[0;32m      4\u001b[0m \u001b[0mc\u001b[0m\u001b[1;33m=\u001b[0m\u001b[1;33m[\u001b[0m\u001b[1;36m0.1\u001b[0m\u001b[1;33m,\u001b[0m \u001b[1;36m0.2\u001b[0m\u001b[1;33m]\u001b[0m\u001b[1;33m\u001b[0m\u001b[1;33m\u001b[0m\u001b[0m\n\u001b[0;32m      5\u001b[0m \u001b[0mc\u001b[0m\u001b[1;33m.\u001b[0m\u001b[0mappend\u001b[0m\u001b[1;33m(\u001b[0m\u001b[1;36m1\u001b[0m\u001b[1;33m-\u001b[0m\u001b[0msum\u001b[0m\u001b[1;33m(\u001b[0m\u001b[0mc\u001b[0m\u001b[1;33m)\u001b[0m\u001b[1;33m)\u001b[0m\u001b[1;33m\u001b[0m\u001b[1;33m\u001b[0m\u001b[0m\n",
      "\u001b[1;31mTypeError\u001b[0m: __init__() missing 3 required positional arguments: 'term', 'unary', and 'binary'"
     ]
    }
   ],
   "source": [
    "#now to make the swap\n",
    "\n",
    "a = bin_tree(delta=0.12)\n",
    "c=[0.1, 0.2]\n",
    "c.append(1-sum(c))\n",
    "a.generate_tree(a.get_root(), c)\n",
    "a.reorder_whole_tree()\n",
    "p.printTree(a.get_root())\n",
    "\n",
    "b = bin_tree(delta=0.12)\n",
    "c=[0.1, 0.2]\n",
    "c.append(1-sum(c))\n",
    "b.generate_tree(b.get_root(), c)\n",
    "b.reorder_whole_tree()\n",
    "p.printTree(b.get_root())"
   ]
  },
  {
   "cell_type": "code",
   "execution_count": 15,
   "metadata": {},
   "outputs": [],
   "source": [
    "def swap_subtrees(tree1, tree2):\n",
    "    \"\"\"randomly selects two subtrees and swaps\"\"\"\n",
    "    choice1 = np.random.choice(tree1.node_list)\n",
    "    choice2 = np.random.choice(tree2.node_list)\n",
    "#     print(\"index of node from tree1: {}, repr: {}\\n\".format(choice1.index, choice1))\n",
    "#     print(\"index of node from tree2: {}, repr: {}\\n\".format(choice2.index, choice2))\n",
    "    swap_parents(choice1, choice2, tree1, tree2)\n",
    "    # re-index each node in the tree\n",
    "    tree1.reorder_whole_tree()\n",
    "    tree2.reorder_whole_tree()\n",
    "    \n",
    "    \n",
    "def swap_parents(node1, node2, tree1, tree2):\n",
    "    \"\"\"remaps the parents of two randomly selected nodes\"\"\"\n",
    "    \n",
    "    parent_node1, left_node1, right_node1, val_node1, coeff_node1, op_node1, num_children_node1, name_node1 = get_relatives(node1)\n",
    "    parent_node2, left_node2, right_node2, val_node2, coeff_node2, op_node2, num_children_node2, name_node2 = get_relatives(node2)\n",
    "    \n",
    "    #update indeces\n",
    "    # get parents of nodes\n",
    "    d = int(node1.index)\n",
    "    e = int(node2.index)\n",
    "    p1 = tree1.node_list[d].parent\n",
    "    p2 = tree2.node_list[e].parent\n",
    "\n",
    "    node1.coeff = coeff_node2\n",
    "    node1.value = val_node2\n",
    "    node1.left = left_node2\n",
    "    node1.right = right_node2\n",
    "    node1.op = op_node2\n",
    "    node1.num_children = num_children_node2\n",
    "    \n",
    "    node2.coeff = coeff_node1\n",
    "    node2.value = val_node1\n",
    "    node2.left = left_node1\n",
    "    node2.right = right_node1\n",
    "    node2.op = op_node1\n",
    "    node2.num_children = num_children_node1 \n",
    "    \n",
    "    #make nodes point to new parents\n",
    "    node1.parent = p1\n",
    "    node2.parent = p2\n",
    "    \n",
    "def get_relatives(node):\n",
    "    return copy.deepcopy([node.parent, node.left, node.right, node.value, node.coeff, node.op, node.num_children, node.name])\n"
   ]
  },
  {
   "cell_type": "code",
   "execution_count": 16,
   "metadata": {},
   "outputs": [],
   "source": [
    "# c = copy.deepcopy(a)\n",
    "# d = copy.deepcopy(b)"
   ]
  },
  {
   "cell_type": "code",
   "execution_count": 17,
   "metadata": {},
   "outputs": [
    {
     "name": "stdout",
     "output_type": "stream",
     "text": [
      " 0 root +\n",
      "\t 1 left 2.4416332023018423\n",
      "\t 2 right y\n",
      " 0 root +\n",
      "\t 1 left +\n",
      "\t\t 2 left +\n",
      "\t\t\t 3 left +\n",
      "\t\t\t\t 4 left x\n",
      "\t\t\t\t 5 right z\n",
      "\t\t\t 6 right +\n",
      "\t\t\t\t 7 left x\n",
      "\t\t\t\t 8 right +\n",
      "\t\t\t\t\t 9 left 2.7724261545029085\n",
      "\t\t\t\t\t 10 right y\n",
      "\t\t 11 right y\n",
      "\t 12 right +\n",
      "\t\t 13 left +\n",
      "\t\t\t 14 left +\n",
      "\t\t\t\t 15 left z\n",
      "\t\t\t\t 16 right +\n",
      "\t\t\t\t\t 17 left x\n",
      "\t\t\t\t\t 18 right +\n",
      "\t\t\t\t\t\t 19 left y\n",
      "\t\t\t\t\t\t 20 right z\n",
      "\t\t\t 21 right +\n",
      "\t\t\t\t 22 left +\n",
      "\t\t\t\t\t 23 left z\n",
      "\t\t\t\t\t 24 right x\n",
      "\t\t\t\t 25 right 1.7643261871471674\n",
      "\t\t 26 right +\n",
      "\t\t\t 27 left +\n",
      "\t\t\t\t 28 left x\n",
      "\t\t\t\t 29 right +\n",
      "\t\t\t\t\t 30 left z\n",
      "\t\t\t\t\t 31 right 1.4841174971818893\n",
      "\t\t\t 32 right 1.7453041020529714\n"
     ]
    }
   ],
   "source": [
    "a = bin_tree(delta=0.12)\n",
    "c=[0.1, 0.2]\n",
    "c.append(1-sum(c))\n",
    "a.generate_tree(a.get_root(), c)\n",
    "a.reorder_whole_tree()\n",
    "p.printTree(a.get_root())\n",
    "\n",
    "b = bin_tree(delta=0.10)\n",
    "c=[0.1, 0.2]\n",
    "c.append(1-sum(c))\n",
    "b.generate_tree(b.get_root(), c)\n",
    "b.reorder_whole_tree()\n",
    "p.printTree(b.get_root())"
   ]
  },
  {
   "cell_type": "code",
   "execution_count": 18,
   "metadata": {
    "scrolled": false
   },
   "outputs": [
    {
     "name": "stdout",
     "output_type": "stream",
     "text": [
      "(2.4416332023018423+y)\n",
      "a:\n",
      " 0 root +\n",
      "\t 1 left 2.4416332023018423\n",
      "\t 2 right y\n",
      "b:\n",
      " 0 root +\n",
      "\t 1 left +\n",
      "\t\t 2 left +\n",
      "\t\t\t 3 left +\n",
      "\t\t\t\t 4 left x\n",
      "\t\t\t\t 5 right z\n",
      "\t\t\t 6 right +\n",
      "\t\t\t\t 7 left x\n",
      "\t\t\t\t 8 right +\n",
      "\t\t\t\t\t 9 left 2.7724261545029085\n",
      "\t\t\t\t\t 10 right y\n",
      "\t\t 11 right y\n",
      "\t 12 right +\n",
      "\t\t 13 left +\n",
      "\t\t\t 14 left +\n",
      "\t\t\t\t 15 left z\n",
      "\t\t\t\t 16 right +\n",
      "\t\t\t\t\t 17 left x\n",
      "\t\t\t\t\t 18 right +\n",
      "\t\t\t\t\t\t 19 left y\n",
      "\t\t\t\t\t\t 20 right z\n",
      "\t\t\t 21 right +\n",
      "\t\t\t\t 22 left +\n",
      "\t\t\t\t\t 23 left z\n",
      "\t\t\t\t\t 24 right x\n",
      "\t\t\t\t 25 right 1.7643261871471674\n",
      "\t\t 26 right +\n",
      "\t\t\t 27 left +\n",
      "\t\t\t\t 28 left x\n",
      "\t\t\t\t 29 right +\n",
      "\t\t\t\t\t 30 left z\n",
      "\t\t\t\t\t 31 right 1.4841174971818893\n",
      "\t\t\t 32 right 1.7453041020529714\n",
      "after:\n",
      "\n",
      "a:\n",
      " 0 root +\n",
      "\t 1 left z\n",
      "\t 2 right x\n",
      "b:\n",
      " 0 root +\n",
      "\t 1 left +\n",
      "\t\t 2 left +\n",
      "\t\t\t 3 left +\n",
      "\t\t\t\t 4 left x\n",
      "\t\t\t\t 5 right z\n",
      "\t\t\t 6 right +\n",
      "\t\t\t\t 7 left x\n",
      "\t\t\t\t 8 right +\n",
      "\t\t\t\t\t 9 left 2.7724261545029085\n",
      "\t\t\t\t\t 10 right y\n",
      "\t\t 11 right y\n",
      "\t 12 right +\n",
      "\t\t 13 left +\n",
      "\t\t\t 14 left +\n",
      "\t\t\t\t 15 left z\n",
      "\t\t\t\t 16 right +\n",
      "\t\t\t\t\t 17 left x\n",
      "\t\t\t\t\t 18 right +\n",
      "\t\t\t\t\t\t 19 left y\n",
      "\t\t\t\t\t\t 20 right z\n",
      "\t\t\t 21 right +\n",
      "\t\t\t\t 22 left +\n",
      "\t\t\t\t\t 23 left 2.4416332023018423\n",
      "\t\t\t\t\t 24 right y\n",
      "\t\t\t\t 25 right 1.7643261871471674\n",
      "\t\t 26 right +\n",
      "\t\t\t 27 left +\n",
      "\t\t\t\t 28 left x\n",
      "\t\t\t\t 29 right +\n",
      "\t\t\t\t\t 30 left z\n",
      "\t\t\t\t\t 31 right 1.4841174971818893\n",
      "\t\t\t 32 right 1.7453041020529714\n",
      "(z+x)\n"
     ]
    }
   ],
   "source": [
    "print(a)\n",
    "#before\n",
    "print(\"a:\")\n",
    "p.printTree(a.get_root())\n",
    "print(\"b:\")\n",
    "p.printTree(b.get_root())\n",
    "\n",
    "\n",
    "#after\n",
    "swap_subtrees(a, b)\n",
    "print(\"after:\\n\")\n",
    "print(\"a:\")\n",
    "p.printTree(a.get_root())\n",
    "print(\"b:\")\n",
    "p.printTree(b.get_root())\n",
    "print(a.traverse())"
   ]
  },
  {
   "cell_type": "code",
   "execution_count": 19,
   "metadata": {},
   "outputs": [
    {
     "name": "stdout",
     "output_type": "stream",
     "text": [
      "// tree1\n",
      "digraph {\n",
      "}\n"
     ]
    }
   ],
   "source": [
    "from graphviz import Digraph\n",
    "\n",
    "\n",
    "dot = Digraph(comment=\"tree1\")\n",
    "print(dot)"
   ]
  },
  {
   "cell_type": "code",
   "execution_count": 20,
   "metadata": {},
   "outputs": [],
   "source": [
    "dot.node(\"A\", \"a\")\n",
    "dot.node(\"B\", \"b\")\n",
    "dot.node(\"C\", \"c\")\n",
    "dot.node(\"D\", \"d\")\n",
    "dot.node(\"E\", \"e\")\n",
    "dot.edge(\"A\", \"B\", constraint='false')\n",
    "dot.edge(\"C\", \"D\")\n",
    "dot.edge(\"A\", \"C\")\n",
    "dot.edge(\"C\", \"E\")\n",
    "# dot.edges([\"AB\", \"CD\", \"AC\", \"CE\"])\n"
   ]
  },
  {
   "cell_type": "code",
   "execution_count": 21,
   "metadata": {},
   "outputs": [
    {
     "name": "stdout",
     "output_type": "stream",
     "text": [
      "// tree1\n",
      "digraph {\n",
      "\tA [label=a]\n",
      "\tB [label=b]\n",
      "\tC [label=c]\n",
      "\tD [label=d]\n",
      "\tE [label=e]\n",
      "\tA -> B [constraint=false]\n",
      "\tC -> D\n",
      "\tA -> C\n",
      "\tC -> E\n",
      "}\n"
     ]
    }
   ],
   "source": [
    "print(dot.source)"
   ]
  },
  {
   "cell_type": "code",
   "execution_count": 22,
   "metadata": {},
   "outputs": [
    {
     "data": {
      "image/svg+xml": [
       "<?xml version=\"1.0\" encoding=\"UTF-8\" standalone=\"no\"?>\r\n",
       "<!DOCTYPE svg PUBLIC \"-//W3C//DTD SVG 1.1//EN\"\r\n",
       " \"http://www.w3.org/Graphics/SVG/1.1/DTD/svg11.dtd\">\r\n",
       "<!-- Generated by graphviz version 2.38.0 (20140413.2041)\r\n",
       " -->\r\n",
       "<!-- Title: %3 Pages: 1 -->\r\n",
       "<svg width=\"170pt\" height=\"188pt\"\r\n",
       " viewBox=\"0.00 0.00 170.00 188.00\" xmlns=\"http://www.w3.org/2000/svg\" xmlns:xlink=\"http://www.w3.org/1999/xlink\">\r\n",
       "<g id=\"graph0\" class=\"graph\" transform=\"scale(1 1) rotate(0) translate(4 184)\">\r\n",
       "<title>%3</title>\r\n",
       "<polygon fill=\"white\" stroke=\"none\" points=\"-4,4 -4,-184 166,-184 166,4 -4,4\"/>\r\n",
       "<!-- A -->\r\n",
       "<g id=\"node1\" class=\"node\"><title>A</title>\r\n",
       "<ellipse fill=\"none\" stroke=\"black\" cx=\"63\" cy=\"-162\" rx=\"27\" ry=\"18\"/>\r\n",
       "<text text-anchor=\"middle\" x=\"63\" y=\"-158.3\" font-family=\"Times New Roman,serif\" font-size=\"14.00\">a</text>\r\n",
       "</g>\r\n",
       "<!-- B -->\r\n",
       "<g id=\"node2\" class=\"node\"><title>B</title>\r\n",
       "<ellipse fill=\"none\" stroke=\"black\" cx=\"135\" cy=\"-162\" rx=\"27\" ry=\"18\"/>\r\n",
       "<text text-anchor=\"middle\" x=\"135\" y=\"-158.3\" font-family=\"Times New Roman,serif\" font-size=\"14.00\">b</text>\r\n",
       "</g>\r\n",
       "<!-- A&#45;&gt;B -->\r\n",
       "<g id=\"edge1\" class=\"edge\"><title>A&#45;&gt;B</title>\r\n",
       "<path fill=\"none\" stroke=\"black\" d=\"M90,-162C92.6147,-162 95.2295,-162 97.8442,-162\"/>\r\n",
       "<polygon fill=\"black\" stroke=\"black\" points=\"97.9297,-165.5 107.93,-162 97.9297,-158.5 97.9297,-165.5\"/>\r\n",
       "</g>\r\n",
       "<!-- C -->\r\n",
       "<g id=\"node3\" class=\"node\"><title>C</title>\r\n",
       "<ellipse fill=\"none\" stroke=\"black\" cx=\"63\" cy=\"-90\" rx=\"27\" ry=\"18\"/>\r\n",
       "<text text-anchor=\"middle\" x=\"63\" y=\"-86.3\" font-family=\"Times New Roman,serif\" font-size=\"14.00\">c</text>\r\n",
       "</g>\r\n",
       "<!-- A&#45;&gt;C -->\r\n",
       "<g id=\"edge3\" class=\"edge\"><title>A&#45;&gt;C</title>\r\n",
       "<path fill=\"none\" stroke=\"black\" d=\"M63,-143.697C63,-135.983 63,-126.712 63,-118.112\"/>\r\n",
       "<polygon fill=\"black\" stroke=\"black\" points=\"66.5001,-118.104 63,-108.104 59.5001,-118.104 66.5001,-118.104\"/>\r\n",
       "</g>\r\n",
       "<!-- D -->\r\n",
       "<g id=\"node4\" class=\"node\"><title>D</title>\r\n",
       "<ellipse fill=\"none\" stroke=\"black\" cx=\"27\" cy=\"-18\" rx=\"27\" ry=\"18\"/>\r\n",
       "<text text-anchor=\"middle\" x=\"27\" y=\"-14.3\" font-family=\"Times New Roman,serif\" font-size=\"14.00\">d</text>\r\n",
       "</g>\r\n",
       "<!-- C&#45;&gt;D -->\r\n",
       "<g id=\"edge2\" class=\"edge\"><title>C&#45;&gt;D</title>\r\n",
       "<path fill=\"none\" stroke=\"black\" d=\"M54.6504,-72.7646C50.2885,-64.2831 44.8531,-53.7144 39.9587,-44.1974\"/>\r\n",
       "<polygon fill=\"black\" stroke=\"black\" points=\"42.9904,-42.4395 35.3043,-35.1473 36.7654,-45.6409 42.9904,-42.4395\"/>\r\n",
       "</g>\r\n",
       "<!-- E -->\r\n",
       "<g id=\"node5\" class=\"node\"><title>E</title>\r\n",
       "<ellipse fill=\"none\" stroke=\"black\" cx=\"99\" cy=\"-18\" rx=\"27\" ry=\"18\"/>\r\n",
       "<text text-anchor=\"middle\" x=\"99\" y=\"-14.3\" font-family=\"Times New Roman,serif\" font-size=\"14.00\">e</text>\r\n",
       "</g>\r\n",
       "<!-- C&#45;&gt;E -->\r\n",
       "<g id=\"edge4\" class=\"edge\"><title>C&#45;&gt;E</title>\r\n",
       "<path fill=\"none\" stroke=\"black\" d=\"M71.3496,-72.7646C75.7115,-64.2831 81.1469,-53.7144 86.0413,-44.1974\"/>\r\n",
       "<polygon fill=\"black\" stroke=\"black\" points=\"89.2346,-45.6409 90.6957,-35.1473 83.0096,-42.4395 89.2346,-45.6409\"/>\r\n",
       "</g>\r\n",
       "</g>\r\n",
       "</svg>\r\n"
      ],
      "text/plain": [
       "<graphviz.dot.Digraph at 0x20f4d0d1348>"
      ]
     },
     "execution_count": 22,
     "metadata": {},
     "output_type": "execute_result"
    }
   ],
   "source": [
    "dot"
   ]
  },
  {
   "cell_type": "code",
   "execution_count": 23,
   "metadata": {},
   "outputs": [],
   "source": [
    "def plot_tree(tree, show_coeff=True, render=False, render_format='pdf', name=\"test\"):\n",
    "    \"\"\"takes in tree & creates graphviz (DOT language graph description). \n",
    "    \n",
    "    :param tree: Tree you want to visualize\n",
    "    \n",
    "    :param show_coeff: displays coefficients on nodes that have them\n",
    "    \n",
    "    :param render: exports the graph image if True\n",
    "    \n",
    "    :param render_format: Can choose png, pdf, svg, etc.\n",
    "    \n",
    "    :param name: Name of exported model\n",
    "    \"\"\"\n",
    "    \n",
    "    root = tree.get_root()\n",
    "    \n",
    "    dot = Digraph(comment=\"tree\")\n",
    "    dot.attr(rank='min')\n",
    "    # Create the nodes\n",
    "    for n in tree.node_list:\n",
    "        # if node is not leaf node, only display the operation (and coeff if applicable)\n",
    "        if n.num_children > 0:\n",
    "            if show_coeff:\n",
    "                if n.coeff is not None:\n",
    "                    dot.node(str(n.index), str(n.coeff)+'\\n'+str(n.op))\n",
    "                else:\n",
    "                    dot.node(str(n.index), n.op)\n",
    "            else:\n",
    "                dot.node(str(n.index), n.op)\n",
    "        # if leaf node, then display either the coeff, value, or coeff * value.\n",
    "        # Current implementation of nodes makes so that each node must contain either\n",
    "        # a constant coefficient or a variable, or both\n",
    "        else:\n",
    "            if n.coeff is not None and n.value is None:\n",
    "                dot.node(str(n.index), str(n.coeff))\n",
    "            elif n.coeff is not None and n.value is not None:\n",
    "                dot.node(str(n.index), str(n.coeff)+'*'+str(n.value))\n",
    "            elif n.coeff is None and n.value is not None:\n",
    "                dot.node(str(n.index), str(n.value))\n",
    "    \n",
    "    # For each node in tree, draw edges to its children\n",
    "    for n in tree.node_list:\n",
    "        if n.num_children > 0:\n",
    "            if n.left is not None:\n",
    "                dot.edge(str(n.index), str(n.left.index))\n",
    "            if n.right is not None:\n",
    "                dot.edge(str(n.index), str(n.right.index))\n",
    "    \n",
    "    # Export & display tree in separate window            \n",
    "    if render:\n",
    "        dot.format=render_format\n",
    "        dot.render('test-output/{}'.format(name), view=True)  \n",
    "    \n",
    "    return dot\n",
    "                \n",
    "    "
   ]
  },
  {
   "cell_type": "code",
   "execution_count": 24,
   "metadata": {},
   "outputs": [],
   "source": [
    "j = plot_tree(a, render=True, name=\"test-tree\", render_format='png')"
   ]
  },
  {
   "cell_type": "code",
   "execution_count": 25,
   "metadata": {
    "scrolled": true
   },
   "outputs": [
    {
     "data": {
      "image/svg+xml": [
       "<?xml version=\"1.0\" encoding=\"UTF-8\" standalone=\"no\"?>\r\n",
       "<!DOCTYPE svg PUBLIC \"-//W3C//DTD SVG 1.1//EN\"\r\n",
       " \"http://www.w3.org/Graphics/SVG/1.1/DTD/svg11.dtd\">\r\n",
       "<!-- Generated by graphviz version 2.38.0 (20140413.2041)\r\n",
       " -->\r\n",
       "<!-- Title: %3 Pages: 1 -->\r\n",
       "<svg width=\"134pt\" height=\"116pt\"\r\n",
       " viewBox=\"0.00 0.00 134.00 116.00\" xmlns=\"http://www.w3.org/2000/svg\" xmlns:xlink=\"http://www.w3.org/1999/xlink\">\r\n",
       "<g id=\"graph0\" class=\"graph\" transform=\"scale(1 1) rotate(0) translate(4 112)\">\r\n",
       "<title>%3</title>\r\n",
       "<polygon fill=\"white\" stroke=\"none\" points=\"-4,4 -4,-112 130,-112 130,4 -4,4\"/>\r\n",
       "<!-- 0 -->\r\n",
       "<g id=\"node1\" class=\"node\"><title>0</title>\r\n",
       "<ellipse fill=\"none\" stroke=\"black\" cx=\"63\" cy=\"-90\" rx=\"27\" ry=\"18\"/>\r\n",
       "<text text-anchor=\"middle\" x=\"63\" y=\"-86.3\" font-family=\"Times New Roman,serif\" font-size=\"14.00\">+</text>\r\n",
       "</g>\r\n",
       "<!-- 1 -->\r\n",
       "<g id=\"node2\" class=\"node\"><title>1</title>\r\n",
       "<ellipse fill=\"none\" stroke=\"black\" cx=\"27\" cy=\"-18\" rx=\"27\" ry=\"18\"/>\r\n",
       "<text text-anchor=\"middle\" x=\"27\" y=\"-14.3\" font-family=\"Times New Roman,serif\" font-size=\"14.00\">z</text>\r\n",
       "</g>\r\n",
       "<!-- 0&#45;&gt;1 -->\r\n",
       "<g id=\"edge1\" class=\"edge\"><title>0&#45;&gt;1</title>\r\n",
       "<path fill=\"none\" stroke=\"black\" d=\"M54.6504,-72.7646C50.2885,-64.2831 44.8531,-53.7144 39.9587,-44.1974\"/>\r\n",
       "<polygon fill=\"black\" stroke=\"black\" points=\"42.9904,-42.4395 35.3043,-35.1473 36.7654,-45.6409 42.9904,-42.4395\"/>\r\n",
       "</g>\r\n",
       "<!-- 2 -->\r\n",
       "<g id=\"node3\" class=\"node\"><title>2</title>\r\n",
       "<ellipse fill=\"none\" stroke=\"black\" cx=\"99\" cy=\"-18\" rx=\"27\" ry=\"18\"/>\r\n",
       "<text text-anchor=\"middle\" x=\"99\" y=\"-14.3\" font-family=\"Times New Roman,serif\" font-size=\"14.00\">x</text>\r\n",
       "</g>\r\n",
       "<!-- 0&#45;&gt;2 -->\r\n",
       "<g id=\"edge2\" class=\"edge\"><title>0&#45;&gt;2</title>\r\n",
       "<path fill=\"none\" stroke=\"black\" d=\"M71.3496,-72.7646C75.7115,-64.2831 81.1469,-53.7144 86.0413,-44.1974\"/>\r\n",
       "<polygon fill=\"black\" stroke=\"black\" points=\"89.2346,-45.6409 90.6957,-35.1473 83.0096,-42.4395 89.2346,-45.6409\"/>\r\n",
       "</g>\r\n",
       "</g>\r\n",
       "</svg>\r\n"
      ],
      "text/plain": [
       "<graphviz.dot.Digraph at 0x20f4cfd3b08>"
      ]
     },
     "execution_count": 25,
     "metadata": {},
     "output_type": "execute_result"
    }
   ],
   "source": [
    "j"
   ]
  },
  {
   "cell_type": "code",
   "execution_count": 26,
   "metadata": {},
   "outputs": [
    {
     "data": {
      "text/plain": [
       "(z+x)"
      ]
     },
     "execution_count": 26,
     "metadata": {},
     "output_type": "execute_result"
    }
   ],
   "source": [
    "a"
   ]
  },
  {
   "cell_type": "code",
   "execution_count": 27,
   "metadata": {},
   "outputs": [
    {
     "data": {
      "text/plain": [
       "'test-output\\\\test-tree1.gv.png'"
      ]
     },
     "execution_count": 27,
     "metadata": {},
     "output_type": "execute_result"
    }
   ],
   "source": [
    "j.render('test-output/test-tree1.gv', view=True)  "
   ]
  },
  {
   "cell_type": "code",
   "execution_count": 28,
   "metadata": {},
   "outputs": [
    {
     "data": {
      "text/plain": [
       "'test-output\\\\test-tree1.png'"
      ]
     },
     "execution_count": 28,
     "metadata": {},
     "output_type": "execute_result"
    }
   ],
   "source": [
    "j.format='png'\n",
    "j.render('test-output/test-tree1', view=True)  "
   ]
  },
  {
   "cell_type": "code",
   "execution_count": 29,
   "metadata": {},
   "outputs": [],
   "source": [
    "#now must define a cycle function\n",
    "MATE=0.4            #proportion of total population chosen to mate\n",
    "MUTATE=0.5          #proportion of offspring that mutate\n",
    "INDIVIDUALS=100     #minimum number of individuals in a population\n",
    "#First define the population\n",
    "\n",
    "class Population:\n",
    "    def __init__(self, individuals, data, y):\n",
    "        self.individuals=individuals\n",
    "        if len(individuals) < INDIVIDUALS:\n",
    "            self.pop_size=INDIVIDUALS\n",
    "        else:\n",
    "            self.pop_size=len(individuals)\n",
    "        self.data = data\n",
    "        self.y = y\n",
    "        # Calculate fitness scores of initial population\n",
    "        self.scores = [individual.mse_fitness(self.data, self.y) \n",
    "             for individual in individuals]\n",
    "        self.best_ind = np.where(self.scores == np.max(self.scores))[0][0]\n",
    "        # used to compare best score of previous population to new population\n",
    "        self.last_best_func = self.individuals[self.best_ind]\n",
    "        \n",
    "    def get_best_func(self):\n",
    "        # Return current best candidate function\n",
    "        return self.individuals[self.best_ind]\n",
    "        \n",
    "    def new_pop(self, scores):\n",
    "        # Random weighted resampling of current population based on fitness\n",
    "        sum1 = np.sum(scores)\n",
    "        prob=scores/sum1\n",
    "        new_pop = np.random.choice(self.individuals, self.pop_size, p=prob, replace=True)\n",
    "        return new_pop\n",
    "        \n",
    "    def cycle(self):\n",
    "        new_pop = self.new_pop(self.scores)\n",
    "        # creates deep copies of chosen individuals to make new population\n",
    "        self.individuals = [copy.deepcopy(individual) for individual in new_pop]\n",
    "        # If mut_offspring is set to mutate only on offspring\n",
    "        mut_offspring=False\n",
    "        if mut_offspring:\n",
    "            mutate_ind = self.mate()\n",
    "        else:\n",
    "            # mutate whole population\n",
    "            self.mate()\n",
    "            mutate_ind = range(self.pop_size)\n",
    "        if len(mutate_ind) > 0:\n",
    "            self.mutate(mutate_ind)\n",
    "        self.scores = [individual.mse_fitness(self.data, self.y) \n",
    "             for individual in self.individuals]\n",
    "        current_best_ind = np.where(self.scores == np.max(self.scores))[0][0]\n",
    "        worst_score_ind = np.where(self.scores == np.min(self.scores))[0][0]\n",
    "        # If best score of current pop < previous pop, replace worst performing\n",
    "        # candidate with previous best candidate\n",
    "        if self.last_best_func.mse_fitness(self.data, self.y) > self.scores[current_best_ind]:\n",
    "            self.scores[worst_score_ind] = self.last_best_func.mse_fitness(self.data, self.y)\n",
    "            self.individuals[worst_score_ind] = self.last_best_func\n",
    "            self.best_ind = worst_score_ind\n",
    "        else:\n",
    "            self.best_ind = current_best_ind\n",
    "        self.last_best_func = self.individuals[self.best_ind]\n",
    "\n",
    "    def mate(self):\n",
    "        num_to_mate = int(len(self.individuals)*MATE)\n",
    "        if num_to_mate >= 2:\n",
    "            if num_to_mate % 2 == 1:\n",
    "                num_to_mate += 1    # Makes sure there is even number of parents\n",
    "            mating_ind = np.random.choice(len(self.individuals), num_to_mate, replace=False)\n",
    "            for i in range(len(mating_ind)//2):\n",
    "                swap_subtrees(self.individuals[2*i], self.individuals[2*i+1])\n",
    "            return mating_ind\n",
    "        return None\n",
    "                \n",
    "    def mutate(self, mutate_ind):\n",
    "        num_to_mutate = int(len(mutate_ind)*MUTATE)\n",
    "        mutate_ind = np.random.choice(mutate_ind, num_to_mutate, replace=False)\n",
    "        if len(mutate_ind) > 0:\n",
    "            for i in mutate_ind:\n",
    "                mut_choice = np.random.choice(self.individuals[i].node_list) # randomly choose a node to mutate\n",
    "                self.individuals[i].mutate_node(mut_choice)\n",
    "    \n",
    "    @staticmethod\n",
    "    def generate_individuals(n, num_vars, coeff_min, coeff_max, exp_min, exp_max, operators):\n",
    "        \"\"\"\n",
    "        Static method for generating initial population of size n from \n",
    "        a dataset with num_vars variables. Coefficient and exponential values of \n",
    "        chromosomes are randomly generated within a user-specified range. operators argument \n",
    "        contains list of strings that represent operators that can be used e.g. ['+', '-', '*'].\n",
    "        \"\"\"\n",
    "        indiv = []\n",
    "        if num_vars > 1 and len(operators) == 0:\n",
    "            raise ValueError(\"no operators\")\n",
    "        for i in range(n):\n",
    "            l = [np.random.uniform(low=coeff_min, high=coeff_max) for _ in range(num_vars)]\n",
    "            a = [np.random.randint(low=exp_min, high=exp_max) for _ in range(num_vars)]\n",
    "            m = np.random.choice(operators, len(l)-1)\n",
    "            indiv.append(Individual(l, a, m))\n",
    "        return indiv\n"
   ]
  },
  {
   "cell_type": "code",
   "execution_count": null,
   "metadata": {},
   "outputs": [],
   "source": [
    "Population.generate_individuals(100, )"
   ]
  },
  {
   "cell_type": "code",
   "execution_count": 31,
   "metadata": {},
   "outputs": [
    {
     "ename": "SyntaxError",
     "evalue": "invalid syntax (<ipython-input-31-f12432e5bc69>, line 1)",
     "output_type": "error",
     "traceback": [
      "\u001b[1;36m  File \u001b[1;32m\"<ipython-input-31-f12432e5bc69>\"\u001b[1;36m, line \u001b[1;32m1\u001b[0m\n\u001b[1;33m    match = x for x in d if x in s\u001b[0m\n\u001b[1;37m                ^\u001b[0m\n\u001b[1;31mSyntaxError\u001b[0m\u001b[1;31m:\u001b[0m invalid syntax\n"
     ]
    }
   ],
   "source": [
    "match = x for x in d if x in s"
   ]
  },
  {
   "cell_type": "code",
   "execution_count": 32,
   "metadata": {},
   "outputs": [
    {
     "ename": "NameError",
     "evalue": "name 'match' is not defined",
     "output_type": "error",
     "traceback": [
      "\u001b[1;31m---------------------------------------------------------------------------\u001b[0m",
      "\u001b[1;31mNameError\u001b[0m                                 Traceback (most recent call last)",
      "\u001b[1;32m<ipython-input-32-cdd3f52b8533>\u001b[0m in \u001b[0;36m<module>\u001b[1;34m\u001b[0m\n\u001b[1;32m----> 1\u001b[1;33m \u001b[0mmatch\u001b[0m\u001b[1;33m.\u001b[0m\u001b[0mnext\u001b[0m\u001b[1;33m(\u001b[0m\u001b[1;33m)\u001b[0m\u001b[1;33m\u001b[0m\u001b[1;33m\u001b[0m\u001b[0m\n\u001b[0m",
      "\u001b[1;31mNameError\u001b[0m: name 'match' is not defined"
     ]
    }
   ],
   "source": [
    "match.next()"
   ]
  },
  {
   "cell_type": "code",
   "execution_count": null,
   "metadata": {},
   "outputs": [],
   "source": []
  },
  {
   "cell_type": "code",
   "execution_count": 33,
   "metadata": {},
   "outputs": [
    {
     "data": {
      "text/plain": [
       "['var1', 'var2']"
      ]
     },
     "execution_count": 33,
     "metadata": {},
     "output_type": "execute_result"
    }
   ],
   "source": [
    "import re\n",
    "from collections import OrderedDict\n",
    "\n",
    "text = \"{var1}*{var2}\"\n",
    "vare = [\"var2\", \"var1\"]\n",
    "x = [(text.find(i), i) for i in vare]\n",
    "x.sort(key=lambda x: x[0])\n",
    "[i[1] for i in x]"
   ]
  },
  {
   "cell_type": "code",
   "execution_count": 34,
   "metadata": {},
   "outputs": [],
   "source": [
    "import pandas as pd\n",
    "x = np.random.normal(size=6)\n",
    "y = np.random.normal(size=6)\n",
    "z = np.random.normal(size=6)\n",
    "data = pd.DataFrame(np.stack([x,y,z], axis=1), columns=['x','y','z'])\n",
    "out = x*y*z\n",
    "# pd.DataFrame.from_items(('x',x),('y',y),('z',z))"
   ]
  },
  {
   "cell_type": "code",
   "execution_count": 45,
   "metadata": {},
   "outputs": [],
   "source": [
    "data['out']=out"
   ]
  },
  {
   "cell_type": "code",
   "execution_count": 36,
   "metadata": {},
   "outputs": [
    {
     "ename": "SyntaxError",
     "evalue": "invalid syntax (<ipython-input-36-10603419911c>, line 1)",
     "output_type": "error",
     "traceback": [
      "\u001b[1;36m  File \u001b[1;32m\"<ipython-input-36-10603419911c>\"\u001b[1;36m, line \u001b[1;32m1\u001b[0m\n\u001b[1;33m    [i, v for i,v  in enumerate(data)]\u001b[0m\n\u001b[1;37m            ^\u001b[0m\n\u001b[1;31mSyntaxError\u001b[0m\u001b[1;31m:\u001b[0m invalid syntax\n"
     ]
    }
   ],
   "source": [
    "[i, v for i,v  in enumerate(data)]"
   ]
  },
  {
   "cell_type": "code",
   "execution_count": 37,
   "metadata": {},
   "outputs": [
    {
     "data": {
      "text/plain": [
       "[(0, 'x'), (1, 'y'), (2, 'z')]"
      ]
     },
     "execution_count": 37,
     "metadata": {},
     "output_type": "execute_result"
    }
   ],
   "source": [
    "[i for i in enumerate(data)]"
   ]
  },
  {
   "cell_type": "code",
   "execution_count": 38,
   "metadata": {},
   "outputs": [
    {
     "name": "stdout",
     "output_type": "stream",
     "text": [
      "0 x    0.595225\n",
      "y   -0.109506\n",
      "z    1.254533\n",
      "Name: 0, dtype: float64\n",
      "1 x   -0.723155\n",
      "y   -1.925990\n",
      "z    1.203870\n",
      "Name: 1, dtype: float64\n",
      "2 x    0.672393\n",
      "y    0.269020\n",
      "z   -1.034141\n",
      "Name: 2, dtype: float64\n",
      "3 x    0.016772\n",
      "y    0.595828\n",
      "z    0.492706\n",
      "Name: 3, dtype: float64\n",
      "4 x    0.668423\n",
      "y    0.371666\n",
      "z   -0.946923\n",
      "Name: 4, dtype: float64\n",
      "5 x   -0.628229\n",
      "y   -0.819263\n",
      "z    0.804370\n",
      "Name: 5, dtype: float64\n",
      "((((x+z)+(x+(2.7724261545029085+y)))+y)+(((z+(x+(y+z)))+((2.4416332023018423+y)+1.7643261871471674))+((x+(z+1.4841174971818893))+1.7453041020529714)))\n",
      "((((x+asdf)+(x+(2.7724261545029085+y)))+y)+(((asdf+(x+(y+asdf)))+((2.4416332023018423+y)+1.7643261871471674))+((x+(asdf+1.4841174971818893))+1.7453041020529714)))\n"
     ]
    }
   ],
   "source": [
    "for index, row in data.iterrows():\n",
    "    print(index, row)\n",
    "ddd = b.__repr__()\n",
    "print(ddd)\n",
    "da = ddd.replace(\"z\", \"asdf\")\n",
    "print(da)"
   ]
  },
  {
   "cell_type": "code",
   "execution_count": 39,
   "metadata": {},
   "outputs": [],
   "source": [
    "for i in range(1000):\n",
    "    b.mse_fitness(data, y)"
   ]
  },
  {
   "cell_type": "code",
   "execution_count": 52,
   "metadata": {},
   "outputs": [],
   "source": [
    "#test to initialize Population\n",
    "c=[0.1, 0.2]\n",
    "c.append(1-sum(c))\n",
    "individuals=[]\n",
    "for i in range(1000):\n",
    "    a=bin_tree(delta=0.12)\n",
    "    a.generate_tree(a.get_root(), c)\n",
    "    individuals.append(a)\n",
    "pop = Population(individuals, data, out)"
   ]
  },
  {
   "cell_type": "code",
   "execution_count": 41,
   "metadata": {},
   "outputs": [],
   "source": [
    "#test cycle\n",
    "pop.cycle()"
   ]
  },
  {
   "cell_type": "code",
   "execution_count": 42,
   "metadata": {},
   "outputs": [
    {
     "data": {
      "text/plain": [
       "(((x+(z+z))+2.9268141711220523)+x)"
      ]
     },
     "execution_count": 42,
     "metadata": {},
     "output_type": "execute_result"
    }
   ],
   "source": [
    "a"
   ]
  },
  {
   "cell_type": "code",
   "execution_count": 43,
   "metadata": {},
   "outputs": [
    {
     "data": {
      "text/plain": [
       "((((x+z)+(x+(2.7724261545029085+y)))+y)+(((z+(x+(y+z)))+((2.4416332023018423+y)+1.7643261871471674))+((x+(z+1.4841174971818893))+1.7453041020529714)))"
      ]
     },
     "execution_count": 43,
     "metadata": {},
     "output_type": "execute_result"
    }
   ],
   "source": [
    "b"
   ]
  },
  {
   "cell_type": "code",
   "execution_count": 44,
   "metadata": {},
   "outputs": [
    {
     "data": {
      "text/plain": [
       "[0.1, 0.2, 0.7]"
      ]
     },
     "execution_count": 44,
     "metadata": {},
     "output_type": "execute_result"
    }
   ],
   "source": [
    "b.node_list[0].probs"
   ]
  },
  {
   "cell_type": "code",
   "execution_count": 1,
   "metadata": {},
   "outputs": [],
   "source": [
    "import pickle\n"
   ]
  },
  {
   "cell_type": "code",
   "execution_count": 46,
   "metadata": {},
   "outputs": [],
   "source": [
    "data.to_pickle(\"./dummy.pkl\")"
   ]
  },
  {
   "cell_type": "code",
   "execution_count": 69,
   "metadata": {},
   "outputs": [
    {
     "data": {
      "text/html": [
       "<div>\n",
       "<style scoped>\n",
       "    .dataframe tbody tr th:only-of-type {\n",
       "        vertical-align: middle;\n",
       "    }\n",
       "\n",
       "    .dataframe tbody tr th {\n",
       "        vertical-align: top;\n",
       "    }\n",
       "\n",
       "    .dataframe thead th {\n",
       "        text-align: right;\n",
       "    }\n",
       "</style>\n",
       "<table border=\"1\" class=\"dataframe\">\n",
       "  <thead>\n",
       "    <tr style=\"text-align: right;\">\n",
       "      <th></th>\n",
       "      <th>x</th>\n",
       "      <th>y</th>\n",
       "      <th>z</th>\n",
       "      <th>out</th>\n",
       "    </tr>\n",
       "  </thead>\n",
       "  <tbody>\n",
       "    <tr>\n",
       "      <td>0</td>\n",
       "      <td>0.595225</td>\n",
       "      <td>-0.109506</td>\n",
       "      <td>1.254533</td>\n",
       "      <td>-0.081771</td>\n",
       "    </tr>\n",
       "    <tr>\n",
       "      <td>1</td>\n",
       "      <td>-0.723155</td>\n",
       "      <td>-1.925990</td>\n",
       "      <td>1.203870</td>\n",
       "      <td>1.676736</td>\n",
       "    </tr>\n",
       "    <tr>\n",
       "      <td>2</td>\n",
       "      <td>0.672393</td>\n",
       "      <td>0.269020</td>\n",
       "      <td>-1.034141</td>\n",
       "      <td>-0.187063</td>\n",
       "    </tr>\n",
       "    <tr>\n",
       "      <td>3</td>\n",
       "      <td>0.016772</td>\n",
       "      <td>0.595828</td>\n",
       "      <td>0.492706</td>\n",
       "      <td>0.004924</td>\n",
       "    </tr>\n",
       "    <tr>\n",
       "      <td>4</td>\n",
       "      <td>0.668423</td>\n",
       "      <td>0.371666</td>\n",
       "      <td>-0.946923</td>\n",
       "      <td>-0.235244</td>\n",
       "    </tr>\n",
       "    <tr>\n",
       "      <td>5</td>\n",
       "      <td>-0.628229</td>\n",
       "      <td>-0.819263</td>\n",
       "      <td>0.804370</td>\n",
       "      <td>0.413997</td>\n",
       "    </tr>\n",
       "  </tbody>\n",
       "</table>\n",
       "</div>"
      ],
      "text/plain": [
       "          x         y         z       out\n",
       "0  0.595225 -0.109506  1.254533 -0.081771\n",
       "1 -0.723155 -1.925990  1.203870  1.676736\n",
       "2  0.672393  0.269020 -1.034141 -0.187063\n",
       "3  0.016772  0.595828  0.492706  0.004924\n",
       "4  0.668423  0.371666 -0.946923 -0.235244\n",
       "5 -0.628229 -0.819263  0.804370  0.413997"
      ]
     },
     "execution_count": 69,
     "metadata": {},
     "output_type": "execute_result"
    }
   ],
   "source": [
    "data"
   ]
  },
  {
   "cell_type": "code",
   "execution_count": 50,
   "metadata": {},
   "outputs": [],
   "source": [
    "data = pd.read_pickle(\"./dummy.pkl\")"
   ]
  },
  {
   "cell_type": "code",
   "execution_count": 51,
   "metadata": {},
   "outputs": [
    {
     "data": {
      "text/html": [
       "<div>\n",
       "<style scoped>\n",
       "    .dataframe tbody tr th:only-of-type {\n",
       "        vertical-align: middle;\n",
       "    }\n",
       "\n",
       "    .dataframe tbody tr th {\n",
       "        vertical-align: top;\n",
       "    }\n",
       "\n",
       "    .dataframe thead th {\n",
       "        text-align: right;\n",
       "    }\n",
       "</style>\n",
       "<table border=\"1\" class=\"dataframe\">\n",
       "  <thead>\n",
       "    <tr style=\"text-align: right;\">\n",
       "      <th></th>\n",
       "      <th>x</th>\n",
       "      <th>y</th>\n",
       "      <th>z</th>\n",
       "      <th>out</th>\n",
       "    </tr>\n",
       "  </thead>\n",
       "  <tbody>\n",
       "    <tr>\n",
       "      <td>0</td>\n",
       "      <td>0.595225</td>\n",
       "      <td>-0.109506</td>\n",
       "      <td>1.254533</td>\n",
       "      <td>-0.081771</td>\n",
       "    </tr>\n",
       "    <tr>\n",
       "      <td>1</td>\n",
       "      <td>-0.723155</td>\n",
       "      <td>-1.925990</td>\n",
       "      <td>1.203870</td>\n",
       "      <td>1.676736</td>\n",
       "    </tr>\n",
       "    <tr>\n",
       "      <td>2</td>\n",
       "      <td>0.672393</td>\n",
       "      <td>0.269020</td>\n",
       "      <td>-1.034141</td>\n",
       "      <td>-0.187063</td>\n",
       "    </tr>\n",
       "    <tr>\n",
       "      <td>3</td>\n",
       "      <td>0.016772</td>\n",
       "      <td>0.595828</td>\n",
       "      <td>0.492706</td>\n",
       "      <td>0.004924</td>\n",
       "    </tr>\n",
       "    <tr>\n",
       "      <td>4</td>\n",
       "      <td>0.668423</td>\n",
       "      <td>0.371666</td>\n",
       "      <td>-0.946923</td>\n",
       "      <td>-0.235244</td>\n",
       "    </tr>\n",
       "    <tr>\n",
       "      <td>5</td>\n",
       "      <td>-0.628229</td>\n",
       "      <td>-0.819263</td>\n",
       "      <td>0.804370</td>\n",
       "      <td>0.413997</td>\n",
       "    </tr>\n",
       "  </tbody>\n",
       "</table>\n",
       "</div>"
      ],
      "text/plain": [
       "          x         y         z       out\n",
       "0  0.595225 -0.109506  1.254533 -0.081771\n",
       "1 -0.723155 -1.925990  1.203870  1.676736\n",
       "2  0.672393  0.269020 -1.034141 -0.187063\n",
       "3  0.016772  0.595828  0.492706  0.004924\n",
       "4  0.668423  0.371666 -0.946923 -0.235244\n",
       "5 -0.628229 -0.819263  0.804370  0.413997"
      ]
     },
     "execution_count": 51,
     "metadata": {},
     "output_type": "execute_result"
    }
   ],
   "source": [
    "data"
   ]
  },
  {
   "cell_type": "code",
   "execution_count": 64,
   "metadata": {},
   "outputs": [
    {
     "name": "stdout",
     "output_type": "stream",
     "text": [
      "((((cx+(cy+cz))+cy)+(cz+cout))+cx)\n",
      "[(left: (left: (left: (left: None*cx, op: +, right: (left: None*cy, op: +, right: None*cz)), op: +, right: None*cy), op: +, right: (left: None*cz, op: +, right: None*cout)), op: +, right: None*cx), (left: (left: (left: None*cx, op: +, right: (left: None*cy, op: +, right: None*cz)), op: +, right: None*cy), op: +, right: (left: None*cz, op: +, right: None*cout)), (left: (left: None*cx, op: +, right: (left: None*cy, op: +, right: None*cz)), op: +, right: None*cy), (left: None*cx, op: +, right: (left: None*cy, op: +, right: None*cz)), None*cx, (left: None*cy, op: +, right: None*cz), None*cy, None*cz, None*cy, (left: None*cz, op: +, right: None*cout), None*cz, None*cout, None*cx]\n",
      "2\n"
     ]
    },
    {
     "ename": "SyntaxError",
     "evalue": "invalid syntax (<string>, line 1)",
     "output_type": "error",
     "traceback": [
      "Traceback \u001b[1;36m(most recent call last)\u001b[0m:\n",
      "  File \u001b[0;32m\"C:\\Users\\Toshiki\\Anaconda3\\envs\\tf_gpu\\lib\\site-packages\\IPython\\core\\interactiveshell.py\"\u001b[0m, line \u001b[0;32m3326\u001b[0m, in \u001b[0;35mrun_code\u001b[0m\n    exec(code_obj, self.user_global_ns, self.user_ns)\n",
      "  File \u001b[0;32m\"<ipython-input-64-47daac9d7d61>\"\u001b[0m, line \u001b[0;32m20\u001b[0m, in \u001b[0;35m<module>\u001b[0m\n    pop = Population(individuals, x, y)\n",
      "  File \u001b[0;32m\"<ipython-input-29-0aaf7d03910d>\"\u001b[0m, line \u001b[0;32m18\u001b[0m, in \u001b[0;35m__init__\u001b[0m\n    for individual in individuals]\n",
      "  File \u001b[0;32m\"<ipython-input-29-0aaf7d03910d>\"\u001b[0m, line \u001b[0;32m18\u001b[0m, in \u001b[0;35m<listcomp>\u001b[0m\n    for individual in individuals]\n",
      "\u001b[1;36m  File \u001b[1;32m\"<ipython-input-55-75109cd91c24>\"\u001b[1;36m, line \u001b[1;32m216\u001b[1;36m, in \u001b[1;35mmse_fitness\u001b[1;36m\u001b[0m\n\u001b[1;33m    y_pred = eval(text_c)\u001b[0m\n",
      "\u001b[1;36m  File \u001b[1;32m\"<string>\"\u001b[1;36m, line \u001b[1;32m1\u001b[0m\n\u001b[1;33m    ((((c0.5952250230730406+(c-0.10950553229707008+c1.2545326495138671))+c-0.10950553229707008)+(c1.2545326495138671+cout))+c0.5952250230730406)\u001b[0m\n\u001b[1;37m                          ^\u001b[0m\n\u001b[1;31mSyntaxError\u001b[0m\u001b[1;31m:\u001b[0m invalid syntax\n"
     ]
    }
   ],
   "source": [
    "    x = data.loc[:, data.columns[:-1]]\n",
    "    y = data.loc[:, data.columns[-1]]\n",
    "#     f.close()\n",
    "\n",
    "    # operators = [i for i in args.list.split(',')]\n",
    "\n",
    "    # Define operators\n",
    "    unary_operands = ['sin', 'cos']\n",
    "    binary_operands = ['+']\n",
    "    terminal_operands = [\"c\"] + data.columns\n",
    "\n",
    "    #test to initialize Population\n",
    "    c=[0.1, 0.2]\n",
    "    c.append(1-sum(c))\n",
    "    individuals=[]\n",
    "    for i in range(100):\n",
    "        a=bin_tree(delta=0.12, term=terminal_operands, unary=unary_operands, binary=binary_operands)\n",
    "        a.generate_tree(a.get_root(), c)\n",
    "        individuals.append(a)\n",
    "    pop = Population(individuals, x, y)"
   ]
  },
  {
   "cell_type": "code",
   "execution_count": 66,
   "metadata": {},
   "outputs": [
    {
     "data": {
      "text/plain": [
       "Index(['xc', 'yc', 'zc', 'outc'], dtype='object')"
      ]
     },
     "execution_count": 66,
     "metadata": {},
     "output_type": "execute_result"
    }
   ],
   "source": [
    "data.columns + ['c']"
   ]
  },
  {
   "cell_type": "code",
   "execution_count": 67,
   "metadata": {},
   "outputs": [],
   "source": [
    "e = ['c']\n",
    "for i in data.columns:\n",
    "    e.append(i)"
   ]
  },
  {
   "cell_type": "code",
   "execution_count": 68,
   "metadata": {},
   "outputs": [
    {
     "data": {
      "text/plain": [
       "['c', 'x', 'y', 'z', 'out']"
      ]
     },
     "execution_count": 68,
     "metadata": {},
     "output_type": "execute_result"
    }
   ],
   "source": [
    "e"
   ]
  },
  {
   "cell_type": "code",
   "execution_count": null,
   "metadata": {},
   "outputs": [],
   "source": []
  }
 ],
 "metadata": {
  "kernelspec": {
   "display_name": "Python 3",
   "language": "python",
   "name": "python3"
  },
  "language_info": {
   "codemirror_mode": {
    "name": "ipython",
    "version": 3
   },
   "file_extension": ".py",
   "mimetype": "text/x-python",
   "name": "python",
   "nbconvert_exporter": "python",
   "pygments_lexer": "ipython3",
   "version": "3.7.4"
  }
 },
 "nbformat": 4,
 "nbformat_minor": 2
}
