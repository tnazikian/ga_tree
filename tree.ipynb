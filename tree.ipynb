{
 "cells": [
  {
   "cell_type": "code",
   "execution_count": 193,
   "metadata": {},
   "outputs": [],
   "source": [
    "from math import *\n",
    "import numpy as np\n",
    "\n",
    "def traverse(node,string=''):\n",
    "    if isinstance(node, bin_tree):\n",
    "        node=node.get_root()  \n",
    "        # if unary\n",
    "    if node.num_children == 1:\n",
    "        string += (node.op)\n",
    "        if node.coeff == None:\n",
    "            string += ('('+traverse(node.left)+')')\n",
    "        else:    \n",
    "            string += ('('+str(node.coeff)+'*'+traverse(node.left)+')')\n",
    "    # if binary\n",
    "    elif node.num_children==2:\n",
    "        string += '('+traverse(node.left)\n",
    "        string += node.op\n",
    "        string += traverse(node.right)+')'\n",
    "    \n",
    "    # if leaf node\n",
    "    else:    \n",
    "        if node.coeff == None:\n",
    "            string += str(node.value)\n",
    "        # if constant leaf node, will only have coefficient\n",
    "        elif node.value == None:\n",
    "            string += str(node.coeff)\n",
    "        else:\n",
    "            string += '('+str(node.coeff) + '*' + str(node.value)+')'\n",
    "    return string"
   ]
  },
  {
   "cell_type": "code",
   "execution_count": 194,
   "metadata": {},
   "outputs": [],
   "source": [
    "# intermediate_operands = ['sin', 'cos', 'exp', 'np.log', '+', '*']\n",
    "# unary_operands = ['sin', 'cos', 'np.log', 'exp']\n",
    "unary_operands = ['sin', 'cos', 'np.log']\n",
    "binary_operands = ['*', '/', '+', '-', '**']\n",
    "# terminal_operands = [\"var1\", \"1\"]\n",
    "terminal_operands = [\"c\"]\n",
    "coeff_max = 3\n",
    "\n"
   ]
  },
  {
   "cell_type": "code",
   "execution_count": 195,
   "metadata": {},
   "outputs": [],
   "source": [
    "class PrintTree:\n",
    "    \"\"\"source: https://ebadahmadzadeh.wordpress.com/2014/02/26/how-to-print-a-dictionary-based-tree-in-python/\"\"\"\n",
    "    def printTree(self, tree, d = 0):\n",
    "        if (tree.num_children == 0):\n",
    "            print(\"\\t\" * d, tree.index, tree.value)\n",
    "        else:\n",
    "            print( \"\\t\" * d, tree.index, tree.name, tree.op)\n",
    "            for i in [tree.left, tree.right]:\n",
    "                if i != None:\n",
    "                    self.printTree(i, d+1)\n",
    "#                 else:\n",
    "#                     print (\"\\t\" * d, str('(') + \"f\" + str(')'))"
   ]
  },
  {
   "cell_type": "code",
   "execution_count": 196,
   "metadata": {},
   "outputs": [
    {
     "ename": "TypeError",
     "evalue": "__init__() takes from 2 to 3 positional arguments but 4 were given",
     "output_type": "error",
     "traceback": [
      "\u001b[1;31m---------------------------------------------------------------------------\u001b[0m",
      "\u001b[1;31mTypeError\u001b[0m                                 Traceback (most recent call last)",
      "\u001b[1;32m<ipython-input-196-6f4b15bfaabf>\u001b[0m in \u001b[0;36m<module>\u001b[1;34m\u001b[0m\n\u001b[0;32m      1\u001b[0m \u001b[1;32mfor\u001b[0m \u001b[0mi\u001b[0m \u001b[1;32min\u001b[0m \u001b[0mrange\u001b[0m\u001b[1;33m(\u001b[0m\u001b[1;36m100\u001b[0m\u001b[1;33m)\u001b[0m\u001b[1;33m:\u001b[0m\u001b[1;33m\u001b[0m\u001b[1;33m\u001b[0m\u001b[0m\n\u001b[1;32m----> 2\u001b[1;33m     \u001b[0mn1\u001b[0m \u001b[1;33m=\u001b[0m \u001b[0mnode\u001b[0m\u001b[1;33m(\u001b[0m\u001b[1;32mNone\u001b[0m\u001b[1;33m,\u001b[0m \u001b[1;36m1\u001b[0m\u001b[1;33m,\u001b[0m \u001b[1;34m\"root\"\u001b[0m\u001b[1;33m)\u001b[0m\u001b[1;33m\u001b[0m\u001b[1;33m\u001b[0m\u001b[0m\n\u001b[0m\u001b[0;32m      3\u001b[0m     \u001b[0mp\u001b[0m \u001b[1;33m=\u001b[0m \u001b[0mPrintTree\u001b[0m\u001b[1;33m(\u001b[0m\u001b[1;33m)\u001b[0m\u001b[1;33m\u001b[0m\u001b[1;33m\u001b[0m\u001b[0m\n\u001b[0;32m      4\u001b[0m     \u001b[0mgenerate_tree\u001b[0m\u001b[1;33m(\u001b[0m\u001b[0mn1\u001b[0m\u001b[1;33m,\u001b[0m \u001b[1;33m[\u001b[0m\u001b[1;36m0.2\u001b[0m\u001b[1;33m,\u001b[0m \u001b[1;36m0.4\u001b[0m\u001b[1;33m,\u001b[0m \u001b[1;36m0.4\u001b[0m\u001b[1;33m]\u001b[0m\u001b[1;33m,\u001b[0m \u001b[1;36m0.08\u001b[0m\u001b[1;33m)\u001b[0m\u001b[1;33m\u001b[0m\u001b[1;33m\u001b[0m\u001b[0m\n\u001b[0;32m      5\u001b[0m \u001b[1;31m#     eval(traverse(n1))\u001b[0m\u001b[1;33m\u001b[0m\u001b[1;33m\u001b[0m\u001b[1;33m\u001b[0m\u001b[0m\n",
      "\u001b[1;31mTypeError\u001b[0m: __init__() takes from 2 to 3 positional arguments but 4 were given"
     ]
    }
   ],
   "source": [
    "for i in range(100):\n",
    "    n1 = node(None, 1, \"root\")\n",
    "    p = PrintTree()\n",
    "    generate_tree(n1, [0.2, 0.4, 0.4], 0.08)\n",
    "#     eval(traverse(n1))\n",
    "    try:\n",
    "        eval(traverse(n1))\n",
    "    except:\n",
    "        print(n1)\n",
    "        print(traverse(n1))\n",
    "        break\n",
    "#     print(n1)\n",
    "#     print(traverse(n1))\n",
    "#     print(p.printTree(n1))\n",
    "#     print(n1)"
   ]
  },
  {
   "cell_type": "code",
   "execution_count": 197,
   "metadata": {},
   "outputs": [],
   "source": [
    "import copy\n",
    "class bin_tree():\n",
    "    def __init__(self, delta):\n",
    "        self.root = node(\"root\")\n",
    "        self.delta = delta\n",
    "        self.num_nodes = 0\n",
    "        self.node_list = []\n",
    "        self.coeff_list = []\n",
    "        \n",
    "    def generate_tree(self, node, c):\n",
    "        \"\"\"\n",
    "        generates tree recursively from a starter node\n",
    "        \n",
    "        :param node: ...\n",
    "        \n",
    "        :param c: ...\n",
    "        \n",
    "        :param delta: ...\n",
    "        \n",
    "        :return: ...\n",
    "        \"\"\"\n",
    "        self.num_nodes += 1\n",
    "        node.index = self.num_nodes\n",
    "        self.node_list.append(node)\n",
    "        r = np.random.rand()\n",
    "        #decrease p(double branch) while\n",
    "        #increase p(no branch)\n",
    "        c = copy.deepcopy(c)\n",
    "        c[0] += self.delta\n",
    "        c[1] -= self.delta/2\n",
    "        c[2] -= self.delta/2\n",
    "        # no operands\n",
    "        if r < c[0]:\n",
    "#             node.coeff = np.random.uniform(coeff_max)\n",
    "            val = np.random.choice(terminal_operands)\n",
    "            # If a constant is chosen as a leaf node, then the c {index of node} is created\n",
    "            if val == \"c\":    \n",
    "                node.value = None\n",
    "                node.coeff = val + str(node.index)\n",
    "            else:\n",
    "                node.value = val\n",
    "        # unary operation\n",
    "        elif r > c[0] and (r - c[0]) < c[1]:\n",
    "            node.init_left()\n",
    "            node.op = np.random.choice(unary_operands)\n",
    "#             node.coeff = np.random.uniform(coeff_max)\n",
    "            self.generate_tree(node.left, c)\n",
    "        # binary\n",
    "        else:\n",
    "            node.init_left()\n",
    "            node.init_right()\n",
    "            node.op = np.random.choice(binary_operands)\n",
    "#             node.coeff = 1\n",
    "            self.generate_tree(node.left, c) \n",
    "            self.generate_tree(node.right, c)\n",
    "            \n",
    "    def get_root(self):\n",
    "        return self.root \n",
    "            \n",
    "    def __repr__(self):\n",
    "        return traverse(self.root)\n",
    "    \n",
    "    def print_tree(self):\n",
    "        pass\n",
    "    \n",
    "    def del_subtree(self):\n",
    "        pass\n",
    "    \n",
    "    def replace_subtree_at_node(self, node):\n",
    "        c = node.c\n",
    "        self.del_subtree(node)\n",
    "        self.generate_tree(node, c, self.delta)        \n",
    "\n",
    "    def traverse(self):\n",
    "        return traverse(self)\n",
    "    \n",
    "    #list of coeffs\n",
    "    # delete node function\n",
    "    # maintain s ame coeffs for c when deleting node"
   ]
  },
  {
   "cell_type": "code",
   "execution_count": 198,
   "metadata": {},
   "outputs": [],
   "source": [
    "class node():\n",
    "    \n",
    "#     def __init__(self, index, name, parent=None):\n",
    "#         self.name = name\n",
    "#         self.num_children=0\n",
    "#         self.index=index\n",
    "#         self._left=None\n",
    "#         self._right=None\n",
    "#         self._op=None\n",
    "#         self.coeff=None\n",
    "#         self._value = None\n",
    "#         self.parent = parent\n",
    "        \n",
    "#     def init_left(self, index):\n",
    "#         left_node = node(index, \"left\", parent=self)\n",
    "#         self.left = left_node\n",
    "#         self.num_children += 1\n",
    "        \n",
    "#     def init_right(self, index):\n",
    "#         right_node = node(index, \"right\", parent=self)\n",
    "#         self.right = right_node\n",
    "#         self.num_children += 1 \n",
    "\n",
    "\n",
    "    def __init__(self, name, parent=None):\n",
    "        self.name = name\n",
    "        self.num_children=0\n",
    "        self.index=None\n",
    "        self._left=None\n",
    "        self._right=None\n",
    "        self._op=None\n",
    "        self.coeff=None\n",
    "        self._value = None\n",
    "        self.parent = parent\n",
    "        \n",
    "    def init_left(self):\n",
    "        left_node = node(\"left\", parent=self)\n",
    "        self.left = left_node\n",
    "        self.num_children += 1\n",
    "        \n",
    "    def init_right(self):\n",
    "        right_node = node(\"right\", parent=self)\n",
    "        self.right = right_node\n",
    "        self.num_children += 1 \n",
    "    \n",
    "    @property    \n",
    "    def left(self):\n",
    "        return self._left\n",
    "    \n",
    "    @property    \n",
    "    def right(self):\n",
    "        return self._right\n",
    "    \n",
    "    @property    \n",
    "    def op(self):\n",
    "        return self._op\n",
    "    \n",
    "    @property    \n",
    "    def value(self):\n",
    "        return self._value\n",
    "    \n",
    "    @value.setter\n",
    "    def value(self, val):\n",
    "        self._value = val\n",
    "    \n",
    "    @left.setter\n",
    "    def left(self, node):\n",
    "        self._left = node\n",
    "    \n",
    "    @right.setter\n",
    "    def right(self, node):\n",
    "        self._right = node\n",
    "\n",
    "    @op.setter\n",
    "    def op(self, op):\n",
    "        self._op = op\n",
    "    \n",
    "    def __repr__(self):\n",
    "        if self.num_children > 0:\n",
    "            return \"(left: {}, op: {}, right: {})\".format(\n",
    "                self.left, self.op, self.right)\n",
    "        return \"{}*{}\".format(self.coeff, self.value)"
   ]
  },
  {
   "cell_type": "code",
   "execution_count": null,
   "metadata": {},
   "outputs": [],
   "source": []
  },
  {
   "cell_type": "code",
   "execution_count": 199,
   "metadata": {},
   "outputs": [
    {
     "data": {
      "text/plain": [
       "'(((np.log(c5)-c6)*(c8+c9))+((sin(c13)+c14)+c15))'"
      ]
     },
     "execution_count": 199,
     "metadata": {},
     "output_type": "execute_result"
    }
   ],
   "source": [
    "a = bin_tree(delta=0.04)\n",
    "c=[0.1, 0.2]\n",
    "c.append(1-sum(c))\n",
    "a.generate_tree(a.get_root(), c)\n",
    "p = PrintTree()\n",
    "a.traverse()\n",
    "# eval(a.traverse())\n"
   ]
  },
  {
   "cell_type": "code",
   "execution_count": 200,
   "metadata": {},
   "outputs": [
    {
     "name": "stdout",
     "output_type": "stream",
     "text": [
      " 1 root +\n",
      "\t 2 left *\n",
      "\t\t 3 left -\n",
      "\t\t\t 4 left np.log\n",
      "\t\t\t\t 5 None\n",
      "\t\t\t 6 None\n",
      "\t\t 7 right +\n",
      "\t\t\t 8 None\n",
      "\t\t\t 9 None\n",
      "\t 10 right +\n",
      "\t\t 11 left +\n",
      "\t\t\t 12 left sin\n",
      "\t\t\t\t 13 None\n",
      "\t\t\t 14 None\n",
      "\t\t 15 None\n"
     ]
    }
   ],
   "source": [
    "p.printTree(a.get_root())"
   ]
  },
  {
   "cell_type": "code",
   "execution_count": 48,
   "metadata": {},
   "outputs": [
    {
     "data": {
      "text/plain": [
       "'np.log(1.3079251851881109*(((2.9068008159490244*1))-((1.6972356440368623*1)))+(((((1.5747441651853291*1))*(((((1.891625662694194*1))+((1.1791238349535045*1)))/((1.0628107333256887*1)))-((2.783326296299999*1))))-(((1.4200188161809952*1))*((2.3396781407008342*1))))**((1.7706431869327073*1))))'"
      ]
     },
     "execution_count": 48,
     "metadata": {},
     "output_type": "execute_result"
    }
   ],
   "source": [
    "traverse(a.get_root())"
   ]
  },
  {
   "cell_type": "code",
   "execution_count": 39,
   "metadata": {},
   "outputs": [
    {
     "data": {
      "text/plain": [
       "(left: (left: (left: (left: (left: 1.392786882654239*1, op: *, right: 1.6168369512562422*1), op: *, right: 1.566165858285118*1), op: -, right: 1.454028636362094*1), op: sin, right: None), op: /, right: (left: 2.641959619522911*1, op: sin, right: None))"
      ]
     },
     "execution_count": 39,
     "metadata": {},
     "output_type": "execute_result"
    }
   ],
   "source": [
    "a.node_list[0]"
   ]
  },
  {
   "cell_type": "code",
   "execution_count": 24,
   "metadata": {},
   "outputs": [
    {
     "data": {
      "text/plain": [
       "11"
      ]
     },
     "execution_count": 24,
     "metadata": {},
     "output_type": "execute_result"
    }
   ],
   "source": [
    "len(a.node_list)"
   ]
  },
  {
   "cell_type": "code",
   "execution_count": 25,
   "metadata": {},
   "outputs": [],
   "source": [
    "# def traverse_index(tree, a):\n",
    "#     tree.index = a\n",
    "#     if tree.num_children == 1:\n",
    "#         tree.index = a\n",
    "#         a += 1\n",
    "#         traverse_index(tree.left, a)\n",
    "#     elif tree.num_children==2:\n",
    "#         tree.index = a\n",
    "#         a += 1\n",
    "#         traverse_index(tree.left, a)\n",
    "#         a += 1\n",
    "#         traverse_index(tree.right, a)\n",
    "\n",
    "        "
   ]
  },
  {
   "cell_type": "code",
   "execution_count": 26,
   "metadata": {},
   "outputs": [
    {
     "name": "stdout",
     "output_type": "stream",
     "text": [
      " 1 root /\n",
      "\t 2 left sin\n",
      "\t\t 3 left -\n",
      "\t\t\t 4 left *\n",
      "\t\t\t\t 5 left *\n",
      "\t\t\t\t\t 6 1\n",
      "\t\t\t\t\t 7 1\n",
      "\t\t\t\t 6 1\n",
      "\t\t\t 5 1\n",
      "\t 3 right sin\n",
      "\t\t 4 1\n"
     ]
    }
   ],
   "source": [
    "# g = bin_tree()\n",
    "\n",
    "# g.generate_tree(g.get_root(), [0.2, 0.4, 0.4], 0.04)\n",
    "\n",
    "# a=1\n",
    "# s=1\n",
    "# traverse_index(a.get_root(), s)\n",
    "# p.printTree(a.get_root())"
   ]
  },
  {
   "cell_type": "code",
   "execution_count": null,
   "metadata": {},
   "outputs": [],
   "source": []
  }
 ],
 "metadata": {
  "kernelspec": {
   "display_name": "Python 3",
   "language": "python",
   "name": "python3"
  },
  "language_info": {
   "codemirror_mode": {
    "name": "ipython",
    "version": 3
   },
   "file_extension": ".py",
   "mimetype": "text/x-python",
   "name": "python",
   "nbconvert_exporter": "python",
   "pygments_lexer": "ipython3",
   "version": "3.7.3"
  }
 },
 "nbformat": 4,
 "nbformat_minor": 2
}
