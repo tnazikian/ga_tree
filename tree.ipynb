{
 "cells": [
  {
   "cell_type": "code",
   "execution_count": 150,
   "metadata": {},
   "outputs": [],
   "source": [
    "from math import *\n",
    "import numpy as np\n",
    "import re\n",
    "from collections import OrderedDict\n",
    "\n",
    "# def traverse(node,string=''):\n",
    "#     if isinstance(node, bin_tree):\n",
    "#         node=node.get_root()  \n",
    "#         # if unary\n",
    "#     if node.num_children == 1:\n",
    "#         string += (node.op)\n",
    "#         if node.coeff == None:\n",
    "#             string += ('('+traverse(node.left)+')')\n",
    "#         else:    \n",
    "#             string += ('('+str(node.coeff)+'*'+traverse(node.left)+')')\n",
    "#     # if binary\n",
    "#     elif node.num_children==2:\n",
    "#         string += '('+traverse(node.left)\n",
    "#         string += node.op\n",
    "#         string += traverse(node.right)+')'\n",
    "    \n",
    "#     # if leaf node\n",
    "#     else:    \n",
    "#         if node.coeff == None:\n",
    "#             string += str(node.value)\n",
    "#         # if constant leaf node, will only have coefficient\n",
    "#         elif node.value == None:\n",
    "#             string += str(node.coeff)\n",
    "#         else:\n",
    "#             string += '('+str(node.coeff) + '*' + str(node.value)+')'\n",
    "#     return string"
   ]
  },
  {
   "cell_type": "code",
   "execution_count": 182,
   "metadata": {},
   "outputs": [],
   "source": [
    "# intermediate_operands = ['sin', 'cos', 'exp', 'np.log', '+', '*']\n",
    "# unary_operands = ['sin', 'cos', 'np.log', 'exp']\n",
    "# unary_operands = ['sin', 'cos', 'np.log']\n",
    "# binary_operands = ['*', '/', '+', '-', '**']\n",
    "unary_operands = ['sin', 'cos']\n",
    "binary_operands = ['+']\n",
    "# terminal_operands = [\"var1\", \"1\"]\n",
    "# terminal_operands = [\"c\", \"var1\"]\n",
    "terminal_operands = [\"c\", \"x\", \"y\", \"z\"]\n",
    "COEFF_MAX = 3\n",
    "\n"
   ]
  },
  {
   "cell_type": "code",
   "execution_count": 183,
   "metadata": {},
   "outputs": [],
   "source": [
    "class PrintTree:\n",
    "    \"\"\"source: https://ebadahmadzadeh.wordpress.com/2014/02/26/how-to-print-a-dictionary-based-tree-in-python/\"\"\"\n",
    "    def printTree(self, tree, d = 0):\n",
    "        if (tree.num_children == 0):\n",
    "            if tree.value is None:\n",
    "                print(\"\\t\" * d, tree.index, tree.name, tree.coeff)\n",
    "            else:\n",
    "                if tree.coeff is not None:\n",
    "                    print(\"\\t\" * d, tree.index, tree.name, tree.coeff + '*' + tree.value)\n",
    "                else:\n",
    "                    print(\"\\t\" * d, tree.index, tree.name, tree.value)\n",
    "        else:\n",
    "            if tree.coeff is None:\n",
    "                print( \"\\t\" * d, tree.index, tree.name, tree.op)\n",
    "            else:\n",
    "                print( \"\\t\" * d, tree.index, tree.name, tree.op, tree.coeff)\n",
    "            for i in [tree.left, tree.right]:\n",
    "                if i != None:\n",
    "                    self.printTree(i, d+1)\n",
    "#                 else:\n",
    "#                     print (\"\\t\" * d, str('(') + \"f\" + str(')'))"
   ]
  },
  {
   "cell_type": "code",
   "execution_count": 184,
   "metadata": {},
   "outputs": [
    {
     "ename": "TypeError",
     "evalue": "__init__() takes from 2 to 3 positional arguments but 4 were given",
     "output_type": "error",
     "traceback": [
      "\u001b[1;31m---------------------------------------------------------------------------\u001b[0m",
      "\u001b[1;31mTypeError\u001b[0m                                 Traceback (most recent call last)",
      "\u001b[1;32m<ipython-input-184-6f4b15bfaabf>\u001b[0m in \u001b[0;36m<module>\u001b[1;34m\u001b[0m\n\u001b[0;32m      1\u001b[0m \u001b[1;32mfor\u001b[0m \u001b[0mi\u001b[0m \u001b[1;32min\u001b[0m \u001b[0mrange\u001b[0m\u001b[1;33m(\u001b[0m\u001b[1;36m100\u001b[0m\u001b[1;33m)\u001b[0m\u001b[1;33m:\u001b[0m\u001b[1;33m\u001b[0m\u001b[1;33m\u001b[0m\u001b[0m\n\u001b[1;32m----> 2\u001b[1;33m     \u001b[0mn1\u001b[0m \u001b[1;33m=\u001b[0m \u001b[0mnode\u001b[0m\u001b[1;33m(\u001b[0m\u001b[1;32mNone\u001b[0m\u001b[1;33m,\u001b[0m \u001b[1;36m1\u001b[0m\u001b[1;33m,\u001b[0m \u001b[1;34m\"root\"\u001b[0m\u001b[1;33m)\u001b[0m\u001b[1;33m\u001b[0m\u001b[1;33m\u001b[0m\u001b[0m\n\u001b[0m\u001b[0;32m      3\u001b[0m     \u001b[0mp\u001b[0m \u001b[1;33m=\u001b[0m \u001b[0mPrintTree\u001b[0m\u001b[1;33m(\u001b[0m\u001b[1;33m)\u001b[0m\u001b[1;33m\u001b[0m\u001b[1;33m\u001b[0m\u001b[0m\n\u001b[0;32m      4\u001b[0m     \u001b[0mgenerate_tree\u001b[0m\u001b[1;33m(\u001b[0m\u001b[0mn1\u001b[0m\u001b[1;33m,\u001b[0m \u001b[1;33m[\u001b[0m\u001b[1;36m0.2\u001b[0m\u001b[1;33m,\u001b[0m \u001b[1;36m0.4\u001b[0m\u001b[1;33m,\u001b[0m \u001b[1;36m0.4\u001b[0m\u001b[1;33m]\u001b[0m\u001b[1;33m,\u001b[0m \u001b[1;36m0.08\u001b[0m\u001b[1;33m)\u001b[0m\u001b[1;33m\u001b[0m\u001b[1;33m\u001b[0m\u001b[0m\n\u001b[0;32m      5\u001b[0m \u001b[1;31m#     eval(traverse(n1))\u001b[0m\u001b[1;33m\u001b[0m\u001b[1;33m\u001b[0m\u001b[1;33m\u001b[0m\u001b[0m\n",
      "\u001b[1;31mTypeError\u001b[0m: __init__() takes from 2 to 3 positional arguments but 4 were given"
     ]
    }
   ],
   "source": [
    "for i in range(100):\n",
    "    n1 = node(None, 1, \"root\")\n",
    "    p = PrintTree()\n",
    "    generate_tree(n1, [0.2, 0.4, 0.4], 0.08)\n",
    "#     eval(traverse(n1))\n",
    "    try:\n",
    "        eval(traverse(n1))\n",
    "    except:\n",
    "        print(n1)\n",
    "        print(traverse(n1))\n",
    "        break\n",
    "#     print(n1)\n",
    "#     print(traverse(n1))\n",
    "#     print(p.printTree(n1))\n",
    "#     print(n1)"
   ]
  },
  {
   "cell_type": "code",
   "execution_count": 450,
   "metadata": {},
   "outputs": [],
   "source": [
    "TEST=False #Toggle if you want real numbers for coeffs\n",
    "import copy\n",
    "class bin_tree():\n",
    "    def __init__(self, delta):\n",
    "        self.root = node(\"root\")\n",
    "        self.delta = delta\n",
    "        self.num_nodes = 0\n",
    "        self.node_list = []\n",
    "        self.coeff_list = []\n",
    "        \n",
    "    def generate_tree(self, node, c):\n",
    "        \"\"\"\n",
    "        generates tree recursively from a starter node\n",
    "        \n",
    "        :param node: node object \n",
    "        \n",
    "        :param c: array containing probabilities: [P(0 children), P(Unary), P(Binary)]\n",
    "        \n",
    "        :param delta: amount by which c parameters increase/decrease per each level of tree\n",
    "        \n",
    "        :return out: String containing either None or \"constant\" - used to check if subtree is \n",
    "        a root node with a constant\n",
    "        \"\"\"\n",
    "        node.probs = c\n",
    "        \n",
    "        out = None # variable that tells whether node was constant or variable\n",
    "        self.num_nodes += 1\n",
    "        node.index = self.num_nodes\n",
    "        self.node_list.append(node)\n",
    "        r = np.random.rand()\n",
    "        #decrease p(double branch) while\n",
    "        #increase p(no branch)\n",
    "        c = copy.deepcopy(c)\n",
    "        c[0] += self.delta\n",
    "        c[1] -= self.delta/2\n",
    "        c[2] -= self.delta/2\n",
    "        # no operands\n",
    "        if r < c[0]:\n",
    "            node.num_children = 0\n",
    "#             node.coeff = np.random.uniform(coeff_max)\n",
    "            val = np.random.choice(terminal_operands)\n",
    "            # If a constant is chosen as a leaf node, then the c {index of node} is created\n",
    "            if val == \"c\":    \n",
    "                node.value = None\n",
    "                if TEST:\n",
    "                    node.coeff = val + str(node.index)\n",
    "                else:\n",
    "                    node.coeff = np.random.uniform(COEFF_MAX)\n",
    "                out = \"constant\"\n",
    "            else:\n",
    "                node.value = val\n",
    "        # unary operation\n",
    "        elif r > c[0] and (r - c[0]) < c[1]:\n",
    "            node.init_left()\n",
    "            node.num_children = 1\n",
    "            node.op = np.random.choice(unary_operands)\n",
    "#             node.coeff = np.random.uniform(coeff_max)\n",
    "            self.generate_tree(node.left, c)\n",
    "        # binary\n",
    "        else:\n",
    "            node.init_left()\n",
    "            node.init_right()\n",
    "            node.num_children = 2\n",
    "            node.op = np.random.choice(binary_operands)\n",
    "            left = self.generate_tree(node.left, c) \n",
    "            right = self.generate_tree(node.right, c)\n",
    "            # If the left and right children are constants, then convert current node into leaf node\n",
    "            if left == \"constant\" and right == \"constant\":\n",
    "                # erase children and assign evaluated value \n",
    "                node.value = None\n",
    "                if TEST:\n",
    "                    node.coeff = \"c\" + str(node.index)\n",
    "                else:\n",
    "                    node.coeff = eval(str(node.left.coeff)+node.op+str(node.right.coeff))\n",
    "                out = \"constant\"\n",
    "                node.left=None\n",
    "                node.right=None\n",
    "                node.num_children = 0\n",
    "                \n",
    "            # if one branch is constant and operator is '*', store constant\n",
    "            # as attribute of other branch, and replace current node with \n",
    "            # the child node. \n",
    "            elif (left == \"constant\" or right == \"constant\") and (node.op == \"*\" or node.op == \"/\"):\n",
    "                if left == \"constant\":\n",
    "                    if TEST:\n",
    "                        node.right.coeff = 'c'+str(node.index)\n",
    "                    else:\n",
    "                        node.right.coeff = np.random.uniform(COEFF_MAX)\n",
    "                    node.right.parent = node.parent\n",
    "                    # parent node points to child of current node\n",
    "                    # so that child can replace current node\n",
    "                    if node.name != \"root\":\n",
    "                        if node.name == \"left\":\n",
    "                            node.parent.left = node.right\n",
    "                        else:\n",
    "                            node.parent.right = node.right\n",
    "                    node.right.name = node.name\n",
    "                    node.right.index = node.index\n",
    "                else:\n",
    "                    if TEST:\n",
    "                        node.left.coeff = 'c'+str(node.index)\n",
    "                    else:\n",
    "                        node.left.coeff = np.random.uniform(COEFF_MAX)\n",
    "                    node.left.parent = node.parent\n",
    "                    if node.name != \"root\":\n",
    "                        if node.name == \"left\":\n",
    "                            node.parent.left = node.left\n",
    "                        else:\n",
    "                            node.parent.right = node.left\n",
    "                    node.left.name = node.name\n",
    "                    node.left.index = node.index\n",
    "        \n",
    "            # If operator is * or /, then combine the coefficients of both branches\n",
    "            elif (left != \"constant\" and right != \"constant\") and (node.op == \"*\" or node.op == \"/\"):\n",
    "                node.coeff = \"c\"+str(node.index)\n",
    "                node.left.coeff = None\n",
    "                node.right.coeff = None\n",
    "\n",
    "        self.reorder_whole_tree()        \n",
    "        return out\n",
    "            \n",
    "    def get_root(self):\n",
    "        return self.root \n",
    "            \n",
    "    def __repr__(self):\n",
    "        return self.traverse(self.get_root())\n",
    "    \n",
    "    def print_tree(self):\n",
    "        pass\n",
    "    \n",
    "    def del_subtree(self, node):\n",
    "        if node.name == \"left\":\n",
    "            node.parent.left = None\n",
    "        elif node.name == \"right\":\n",
    "            node.parent.right = None\n",
    "        self.reorder_whole_tree()\n",
    "    \n",
    "    def mutate_node(self, n):\n",
    "        \"\"\"takes in either a node or node index, and constructs\n",
    "        a new tree from that point.\"\"\"\n",
    "        if isinstance(n, node):\n",
    "            self.generate_tree(n, n.probs)\n",
    "        elif isinstance(n, int):\n",
    "            self.generate_tree(self.node_list[n], self.node_list[n].probs)\n",
    "        self.reorder_whole_tree()\n",
    "\n",
    "    def traverse(self, node=None, string=\"\"):\n",
    "        if node is None:\n",
    "            node = self.get_root()\n",
    "        if node.num_children == 1:\n",
    "            string += (node.op)\n",
    "            if node.coeff == None:\n",
    "                string += ('('+self.traverse(node.left)+')')\n",
    "            else:    \n",
    "                string += ('('+str(node.coeff)+'*'+self.traverse(node.left)+')')\n",
    "        # if binary\n",
    "        elif node.num_children==2:\n",
    "            string += '('+self.traverse(node.left)\n",
    "            string += node.op\n",
    "            string += self.traverse(node.right)+')'\n",
    "\n",
    "        # if leaf node\n",
    "        else:    \n",
    "            if node.coeff == None:\n",
    "                string += str(node.value)\n",
    "            # if constant leaf node, will only have coefficient\n",
    "            elif node.value == None:\n",
    "                string += str(node.coeff)\n",
    "            else:\n",
    "                string += '('+str(node.coeff) + '*' + str(node.value)+')'\n",
    "        return string\n",
    "    \n",
    "    def index_tree(self, node):\n",
    "        \"\"\"depth wise travels down tree and indexes each node. returns list of nodes in same order\"\"\"\n",
    "        self.node_list.append(node)\n",
    "        node.index = self.num_nodes\n",
    "        self.num_nodes += 1\n",
    "        for i in [node.left, node.right]:\n",
    "            if i is not None:\n",
    "                self.index_tree(i)\n",
    "                \n",
    "    def reorder_whole_tree(self):\n",
    "        self.num_nodes = 0\n",
    "        self.node_list = []\n",
    "        self.index_tree(self.get_root())   \n",
    "        \n",
    "    def mse_fitness(self, data, y):\n",
    "        \"\"\"Uses mean square error to generate a fitness score\n",
    "        Use for tuning coeffs after functional form determined\"\"\"\n",
    "        f = 0\n",
    "        # find all columns that are in tree\n",
    "        datacols=data.columns\n",
    "        # Get subset of data with only these \n",
    "        \n",
    "        text = self.traverse()\n",
    "        # Create a sorted list of variables that are present in function\n",
    "        x = [(text.find(i), i) for i in datacols]\n",
    "        # sort vars by order of appearance from left to right\n",
    "#         x.sort(key=lambda x: x[0])\n",
    "        vars_in_equation = [i[1] for i in x]\n",
    "#         #create data subset \n",
    "#         subset = data[vars_in_equation]\n",
    "        ind = 0\n",
    "        for i, row in data.iterrows():\n",
    "            text_c = text\n",
    "            for var in vars_in_equation:\n",
    "                text_c = text_c.replace(var, str(data[var][i]))\n",
    "            \n",
    "            try:\n",
    "                y_pred = eval(text_c)\n",
    "                (y[i]-y_pred)**2\n",
    "            except:\n",
    "                print(self.traverse())\n",
    "                print(self.node_list)\n",
    "                print(self.get_root().num_children)\n",
    "                raise\n",
    "            err = (y[i]-y_pred)**2\n",
    "            f += err\n",
    "        mean_error = f/len(data)\n",
    "        self.fitness = 1000*(1/(1+mean_error))\n",
    "        return self.fitness\n",
    "    \n",
    "    def var_fitness(self, data, y):\n",
    "        \"\"\"Uses F-test to generate fitness score\n",
    "        Use for determining functional form\"\"\"\n",
    "        pass\n",
    "    \n",
    "    def calc_row(self, datarow):\n",
    "        \"\"\"predicts y for a row of data\"\"\"\n",
    "        pass\n",
    "    \n",
    "    #list of coeffs\n",
    "    # delete node function\n",
    "    # maintain s ame coeffs for c when deleting node"
   ]
  },
  {
   "cell_type": "code",
   "execution_count": 451,
   "metadata": {},
   "outputs": [],
   "source": [
    "class node():\n",
    "    \n",
    "#     def __init__(self, index, name, parent=None):\n",
    "#         self.name = name\n",
    "#         self.num_children=0\n",
    "#         self.index=index\n",
    "#         self._left=None\n",
    "#         self._right=None\n",
    "#         self._op=None\n",
    "#         self.coeff=None\n",
    "#         self._value = None\n",
    "#         self.parent = parent\n",
    "        \n",
    "#     def init_left(self, index):\n",
    "#         left_node = node(index, \"left\", parent=self)\n",
    "#         self.left = left_node\n",
    "#         self.num_children += 1\n",
    "        \n",
    "#     def init_right(self, index):\n",
    "#         right_node = node(index, \"right\", parent=self)\n",
    "#         self.right = right_node\n",
    "#         self.num_children += 1 \n",
    "\n",
    "\n",
    "    def __init__(self, name, parent=None):\n",
    "        self.name = name\n",
    "        self.num_children=0\n",
    "        self.index=None\n",
    "        self._left=None\n",
    "        self._right=None\n",
    "        self._op=None\n",
    "        self.coeff=None\n",
    "        self._value = None\n",
    "        self.probs = None\n",
    "        self.parent = parent\n",
    "        \n",
    "    def init_left(self):\n",
    "        left_node = node(\"left\", parent=self)\n",
    "        self.left = left_node\n",
    "        self.num_children += 1\n",
    "        \n",
    "    def init_right(self):\n",
    "        right_node = node(\"right\", parent=self)\n",
    "        self.right = right_node\n",
    "        self.num_children += 1 \n",
    "    \n",
    "    @property    \n",
    "    def left(self):\n",
    "        return self._left\n",
    "    \n",
    "    @property    \n",
    "    def right(self):\n",
    "        return self._right\n",
    "    \n",
    "    @property    \n",
    "    def op(self):\n",
    "        return self._op\n",
    "    \n",
    "    @property    \n",
    "    def value(self):\n",
    "        return self._value\n",
    "    \n",
    "    @value.setter\n",
    "    def value(self, val):\n",
    "        self._value = val\n",
    "    \n",
    "    @left.setter\n",
    "    def left(self, node):\n",
    "        self._left = node\n",
    "    \n",
    "    @right.setter\n",
    "    def right(self, node):\n",
    "        self._right = node\n",
    "\n",
    "    @op.setter\n",
    "    def op(self, op):\n",
    "        self._op = op\n",
    "        \n",
    "    def __repr__(self):\n",
    "        if self.num_children > 0:\n",
    "            return \"(left: {}, op: {}, right: {})\".format(\n",
    "                self.left, self.op, self.right)\n",
    "        return \"{}*{}\".format(self.coeff, self.value)"
   ]
  },
  {
   "cell_type": "code",
   "execution_count": 446,
   "metadata": {},
   "outputs": [
    {
     "ename": "TypeError",
     "evalue": "only size-1 arrays can be converted to Python scalars",
     "output_type": "error",
     "traceback": [
      "\u001b[1;31m---------------------------------------------------------------------------\u001b[0m",
      "\u001b[1;31mTypeError\u001b[0m                                 Traceback (most recent call last)",
      "\u001b[1;32m<ipython-input-446-54ab9fcc0014>\u001b[0m in \u001b[0;36m<module>\u001b[1;34m\u001b[0m\n\u001b[0;32m      7\u001b[0m     \u001b[0mp\u001b[0m \u001b[1;33m=\u001b[0m \u001b[0mPrintTree\u001b[0m\u001b[1;33m(\u001b[0m\u001b[1;33m)\u001b[0m\u001b[1;33m\u001b[0m\u001b[1;33m\u001b[0m\u001b[0m\n\u001b[0;32m      8\u001b[0m \u001b[1;31m#     print(eval(a.traverse()))\u001b[0m\u001b[1;33m\u001b[0m\u001b[1;33m\u001b[0m\u001b[1;33m\u001b[0m\u001b[0m\n\u001b[1;32m----> 9\u001b[1;33m     \u001b[0meval\u001b[0m\u001b[1;33m(\u001b[0m\u001b[0ma\u001b[0m\u001b[1;33m.\u001b[0m\u001b[0mtraverse\u001b[0m\u001b[1;33m(\u001b[0m\u001b[1;33m)\u001b[0m\u001b[1;33m)\u001b[0m\u001b[1;33m\u001b[0m\u001b[1;33m\u001b[0m\u001b[0m\n\u001b[0m",
      "\u001b[1;32m<string>\u001b[0m in \u001b[0;36m<module>\u001b[1;34m\u001b[0m\n",
      "\u001b[1;31mTypeError\u001b[0m: only size-1 arrays can be converted to Python scalars"
     ]
    }
   ],
   "source": [
    "for i in range(10000):\n",
    "    a = bin_tree(delta=0.12)\n",
    "    c=[0.1, 0.2]\n",
    "    c.append(1-sum(c))\n",
    "    a.generate_tree(a.get_root(), c)\n",
    "    a.reorder_whole_tree()\n",
    "    p = PrintTree()\n",
    "#     print(eval(a.traverse()))\n",
    "    eval(a.traverse())\n"
   ]
  },
  {
   "cell_type": "code",
   "execution_count": 418,
   "metadata": {
    "scrolled": false
   },
   "outputs": [
    {
     "name": "stdout",
     "output_type": "stream",
     "text": [
      " 0 root sin\n",
      "\t 1 left +\n",
      "\t\t 2 left +\n",
      "\t\t\t 3 left +\n",
      "\t\t\t\t 4 left 2.4895128827846027\n",
      "\t\t\t\t 5 right y\n",
      "\t\t\t 6 right y\n",
      "\t\t 7 right z\n"
     ]
    }
   ],
   "source": [
    "p.printTree(a.get_root())"
   ]
  },
  {
   "cell_type": "code",
   "execution_count": 419,
   "metadata": {},
   "outputs": [],
   "source": [
    "a.mutate_node(0)"
   ]
  },
  {
   "cell_type": "code",
   "execution_count": 420,
   "metadata": {},
   "outputs": [
    {
     "name": "stdout",
     "output_type": "stream",
     "text": [
      " 0 root sin\n",
      "\t 1 left +\n",
      "\t\t 2 left cos\n",
      "\t\t\t 3 left z\n",
      "\t\t 4 right x\n"
     ]
    }
   ],
   "source": [
    "p.printTree(a.get_root())"
   ]
  },
  {
   "cell_type": "code",
   "execution_count": 421,
   "metadata": {},
   "outputs": [],
   "source": [
    "# a.generate_tree(a.node_list[19], [0.1, 0.1, 0.8])"
   ]
  },
  {
   "cell_type": "code",
   "execution_count": 422,
   "metadata": {},
   "outputs": [
    {
     "name": "stdout",
     "output_type": "stream",
     "text": [
      " 0 root sin\n",
      "\t 1 left +\n",
      "\t\t 2 left cos\n",
      "\t\t\t 3 left z\n",
      "\t\t 4 right x\n"
     ]
    }
   ],
   "source": [
    "p.printTree(a.get_root())"
   ]
  },
  {
   "cell_type": "code",
   "execution_count": 423,
   "metadata": {},
   "outputs": [
    {
     "name": "stdout",
     "output_type": "stream",
     "text": [
      " 0 root +\n",
      "\t 1 left +\n",
      "\t\t 2 left y\n",
      "\t\t 3 right +\n",
      "\t\t\t 4 left +\n",
      "\t\t\t\t 5 left 2.2412179277272664\n",
      "\t\t\t\t 6 right +\n",
      "\t\t\t\t\t 7 left +\n",
      "\t\t\t\t\t\t 8 left 2.6171392654318657\n",
      "\t\t\t\t\t\t 9 right z\n",
      "\t\t\t\t\t 10 right y\n",
      "\t\t\t 11 right +\n",
      "\t\t\t\t 12 left 2.220287866235833\n",
      "\t\t\t\t 13 right y\n",
      "\t 14 right +\n",
      "\t\t 15 left x\n",
      "\t\t 16 right x\n",
      " 0 root +\n",
      "\t 1 left +\n",
      "\t\t 2 left y\n",
      "\t\t 3 right +\n",
      "\t\t\t 4 left 3.7254146787751203\n",
      "\t\t\t 5 right y\n",
      "\t 6 right x\n"
     ]
    }
   ],
   "source": [
    "#now to make the swap\n",
    "\n",
    "a = bin_tree(delta=0.12)\n",
    "c=[0.1, 0.2]\n",
    "c.append(1-sum(c))\n",
    "a.generate_tree(a.get_root(), c)\n",
    "a.reorder_whole_tree()\n",
    "p.printTree(a.get_root())\n",
    "\n",
    "b = bin_tree(delta=0.12)\n",
    "c=[0.1, 0.2]\n",
    "c.append(1-sum(c))\n",
    "b.generate_tree(b.get_root(), c)\n",
    "b.reorder_whole_tree()\n",
    "p.printTree(b.get_root())"
   ]
  },
  {
   "cell_type": "code",
   "execution_count": 424,
   "metadata": {},
   "outputs": [],
   "source": [
    "def swap_subtrees(tree1, tree2):\n",
    "    \"\"\"randomly selects two subtrees and swaps\"\"\"\n",
    "    choice1 = np.random.choice(tree1.node_list)\n",
    "    choice2 = np.random.choice(tree2.node_list)\n",
    "#     print(\"index of node from tree1: {}, repr: {}\\n\".format(choice1.index, choice1))\n",
    "#     print(\"index of node from tree2: {}, repr: {}\\n\".format(choice2.index, choice2))\n",
    "    swap_parents(choice1, choice2, tree1, tree2)\n",
    "    # re-index each node in the tree\n",
    "    tree1.reorder_whole_tree()\n",
    "    tree2.reorder_whole_tree()\n",
    "    \n",
    "    \n",
    "def swap_parents(node1, node2, tree1, tree2):\n",
    "    \"\"\"remaps the parents of two randomly selected nodes\"\"\"\n",
    "    \n",
    "    parent_node1, left_node1, right_node1, val_node1, coeff_node1, op_node1, num_children_node1, name_node1 = get_relatives(node1)\n",
    "    parent_node2, left_node2, right_node2, val_node2, coeff_node2, op_node2, num_children_node2, name_node2 = get_relatives(node2)\n",
    "    \n",
    "    #update indeces\n",
    "    # get parents of nodes\n",
    "    d = int(node1.index)\n",
    "    e = int(node2.index)\n",
    "    p1 = tree1.node_list[d].parent\n",
    "    p2 = tree2.node_list[e].parent\n",
    "\n",
    "    node1.coeff = coeff_node2\n",
    "    node1.value = val_node2\n",
    "    node1.left = left_node2\n",
    "    node1.right = right_node2\n",
    "    node1.op = op_node2\n",
    "    node1.num_children = num_children_node2\n",
    "    \n",
    "    node2.coeff = coeff_node1\n",
    "    node2.value = val_node1\n",
    "    node2.left = left_node1\n",
    "    node2.right = right_node1\n",
    "    node2.op = op_node1\n",
    "    node2.num_children = num_children_node1 \n",
    "    \n",
    "    #make nodes point to new parents\n",
    "    node1.parent = p1\n",
    "    node2.parent = p2\n",
    "    \n",
    "def get_relatives(node):\n",
    "    return copy.deepcopy([node.parent, node.left, node.right, node.value, node.coeff, node.op, node.num_children, node.name])\n"
   ]
  },
  {
   "cell_type": "code",
   "execution_count": 425,
   "metadata": {},
   "outputs": [],
   "source": [
    "# c = copy.deepcopy(a)\n",
    "# d = copy.deepcopy(b)"
   ]
  },
  {
   "cell_type": "code",
   "execution_count": 426,
   "metadata": {},
   "outputs": [
    {
     "name": "stdout",
     "output_type": "stream",
     "text": [
      " 0 root +\n",
      "\t 1 left z\n",
      "\t 2 right x\n",
      " 0 root +\n",
      "\t 1 left +\n",
      "\t\t 2 left +\n",
      "\t\t\t 3 left z\n",
      "\t\t\t 4 right +\n",
      "\t\t\t\t 5 left 2.56596015882272\n",
      "\t\t\t\t 6 right z\n",
      "\t\t 7 right y\n",
      "\t 8 right y\n"
     ]
    }
   ],
   "source": [
    "a = bin_tree(delta=0.12)\n",
    "c=[0.1, 0.2]\n",
    "c.append(1-sum(c))\n",
    "a.generate_tree(a.get_root(), c)\n",
    "a.reorder_whole_tree()\n",
    "p.printTree(a.get_root())\n",
    "\n",
    "b = bin_tree(delta=0.10)\n",
    "c=[0.1, 0.2]\n",
    "c.append(1-sum(c))\n",
    "b.generate_tree(b.get_root(), c)\n",
    "b.reorder_whole_tree()\n",
    "p.printTree(b.get_root())"
   ]
  },
  {
   "cell_type": "code",
   "execution_count": 427,
   "metadata": {
    "scrolled": false
   },
   "outputs": [
    {
     "name": "stdout",
     "output_type": "stream",
     "text": [
      "(z+x)\n",
      "a:\n",
      " 0 root +\n",
      "\t 1 left z\n",
      "\t 2 right x\n",
      "b:\n",
      " 0 root +\n",
      "\t 1 left +\n",
      "\t\t 2 left +\n",
      "\t\t\t 3 left z\n",
      "\t\t\t 4 right +\n",
      "\t\t\t\t 5 left 2.56596015882272\n",
      "\t\t\t\t 6 right z\n",
      "\t\t 7 right y\n",
      "\t 8 right y\n",
      "after:\n",
      "\n",
      "a:\n",
      " 0 root +\n",
      "\t 1 left 2.56596015882272\n",
      "\t 2 right x\n",
      "b:\n",
      " 0 root +\n",
      "\t 1 left +\n",
      "\t\t 2 left +\n",
      "\t\t\t 3 left z\n",
      "\t\t\t 4 right +\n",
      "\t\t\t\t 5 left z\n",
      "\t\t\t\t 6 right z\n",
      "\t\t 7 right y\n",
      "\t 8 right y\n",
      "(2.56596015882272+x)\n"
     ]
    }
   ],
   "source": [
    "print(a)\n",
    "#before\n",
    "print(\"a:\")\n",
    "p.printTree(a.get_root())\n",
    "print(\"b:\")\n",
    "p.printTree(b.get_root())\n",
    "\n",
    "\n",
    "#after\n",
    "swap_subtrees(a, b)\n",
    "print(\"after:\\n\")\n",
    "print(\"a:\")\n",
    "p.printTree(a.get_root())\n",
    "print(\"b:\")\n",
    "p.printTree(b.get_root())\n",
    "print(a.traverse())"
   ]
  },
  {
   "cell_type": "code",
   "execution_count": 428,
   "metadata": {},
   "outputs": [
    {
     "name": "stdout",
     "output_type": "stream",
     "text": [
      "// tree1\n",
      "digraph {\n",
      "}\n"
     ]
    }
   ],
   "source": [
    "from graphviz import Digraph\n",
    "\n",
    "\n",
    "dot = Digraph(comment=\"tree1\")\n",
    "print(dot)"
   ]
  },
  {
   "cell_type": "code",
   "execution_count": 429,
   "metadata": {},
   "outputs": [],
   "source": [
    "dot.node(\"A\", \"a\")\n",
    "dot.node(\"B\", \"b\")\n",
    "dot.node(\"C\", \"c\")\n",
    "dot.node(\"D\", \"d\")\n",
    "dot.node(\"E\", \"e\")\n",
    "dot.edge(\"A\", \"B\", constraint='false')\n",
    "dot.edge(\"C\", \"D\")\n",
    "dot.edge(\"A\", \"C\")\n",
    "dot.edge(\"C\", \"E\")\n",
    "# dot.edges([\"AB\", \"CD\", \"AC\", \"CE\"])\n"
   ]
  },
  {
   "cell_type": "code",
   "execution_count": 430,
   "metadata": {},
   "outputs": [
    {
     "name": "stdout",
     "output_type": "stream",
     "text": [
      "// tree1\n",
      "digraph {\n",
      "\tA [label=a]\n",
      "\tB [label=b]\n",
      "\tC [label=c]\n",
      "\tD [label=d]\n",
      "\tE [label=e]\n",
      "\tA -> B [constraint=false]\n",
      "\tC -> D\n",
      "\tA -> C\n",
      "\tC -> E\n",
      "}\n"
     ]
    }
   ],
   "source": [
    "print(dot.source)"
   ]
  },
  {
   "cell_type": "code",
   "execution_count": 431,
   "metadata": {},
   "outputs": [
    {
     "data": {
      "image/svg+xml": [
       "<?xml version=\"1.0\" encoding=\"UTF-8\" standalone=\"no\"?>\r\n",
       "<!DOCTYPE svg PUBLIC \"-//W3C//DTD SVG 1.1//EN\"\r\n",
       " \"http://www.w3.org/Graphics/SVG/1.1/DTD/svg11.dtd\">\r\n",
       "<!-- Generated by graphviz version 2.38.0 (20140413.2041)\r\n",
       " -->\r\n",
       "<!-- Title: %3 Pages: 1 -->\r\n",
       "<svg width=\"170pt\" height=\"188pt\"\r\n",
       " viewBox=\"0.00 0.00 170.00 188.00\" xmlns=\"http://www.w3.org/2000/svg\" xmlns:xlink=\"http://www.w3.org/1999/xlink\">\r\n",
       "<g id=\"graph0\" class=\"graph\" transform=\"scale(1 1) rotate(0) translate(4 184)\">\r\n",
       "<title>%3</title>\r\n",
       "<polygon fill=\"white\" stroke=\"none\" points=\"-4,4 -4,-184 166,-184 166,4 -4,4\"/>\r\n",
       "<!-- A -->\r\n",
       "<g id=\"node1\" class=\"node\"><title>A</title>\r\n",
       "<ellipse fill=\"none\" stroke=\"black\" cx=\"63\" cy=\"-162\" rx=\"27\" ry=\"18\"/>\r\n",
       "<text text-anchor=\"middle\" x=\"63\" y=\"-158.3\" font-family=\"Times New Roman,serif\" font-size=\"14.00\">a</text>\r\n",
       "</g>\r\n",
       "<!-- B -->\r\n",
       "<g id=\"node2\" class=\"node\"><title>B</title>\r\n",
       "<ellipse fill=\"none\" stroke=\"black\" cx=\"135\" cy=\"-162\" rx=\"27\" ry=\"18\"/>\r\n",
       "<text text-anchor=\"middle\" x=\"135\" y=\"-158.3\" font-family=\"Times New Roman,serif\" font-size=\"14.00\">b</text>\r\n",
       "</g>\r\n",
       "<!-- A&#45;&gt;B -->\r\n",
       "<g id=\"edge1\" class=\"edge\"><title>A&#45;&gt;B</title>\r\n",
       "<path fill=\"none\" stroke=\"black\" d=\"M90,-162C92.6147,-162 95.2295,-162 97.8442,-162\"/>\r\n",
       "<polygon fill=\"black\" stroke=\"black\" points=\"97.9297,-165.5 107.93,-162 97.9297,-158.5 97.9297,-165.5\"/>\r\n",
       "</g>\r\n",
       "<!-- C -->\r\n",
       "<g id=\"node3\" class=\"node\"><title>C</title>\r\n",
       "<ellipse fill=\"none\" stroke=\"black\" cx=\"63\" cy=\"-90\" rx=\"27\" ry=\"18\"/>\r\n",
       "<text text-anchor=\"middle\" x=\"63\" y=\"-86.3\" font-family=\"Times New Roman,serif\" font-size=\"14.00\">c</text>\r\n",
       "</g>\r\n",
       "<!-- A&#45;&gt;C -->\r\n",
       "<g id=\"edge3\" class=\"edge\"><title>A&#45;&gt;C</title>\r\n",
       "<path fill=\"none\" stroke=\"black\" d=\"M63,-143.697C63,-135.983 63,-126.712 63,-118.112\"/>\r\n",
       "<polygon fill=\"black\" stroke=\"black\" points=\"66.5001,-118.104 63,-108.104 59.5001,-118.104 66.5001,-118.104\"/>\r\n",
       "</g>\r\n",
       "<!-- D -->\r\n",
       "<g id=\"node4\" class=\"node\"><title>D</title>\r\n",
       "<ellipse fill=\"none\" stroke=\"black\" cx=\"27\" cy=\"-18\" rx=\"27\" ry=\"18\"/>\r\n",
       "<text text-anchor=\"middle\" x=\"27\" y=\"-14.3\" font-family=\"Times New Roman,serif\" font-size=\"14.00\">d</text>\r\n",
       "</g>\r\n",
       "<!-- C&#45;&gt;D -->\r\n",
       "<g id=\"edge2\" class=\"edge\"><title>C&#45;&gt;D</title>\r\n",
       "<path fill=\"none\" stroke=\"black\" d=\"M54.6504,-72.7646C50.2885,-64.2831 44.8531,-53.7144 39.9587,-44.1974\"/>\r\n",
       "<polygon fill=\"black\" stroke=\"black\" points=\"42.9904,-42.4395 35.3043,-35.1473 36.7654,-45.6409 42.9904,-42.4395\"/>\r\n",
       "</g>\r\n",
       "<!-- E -->\r\n",
       "<g id=\"node5\" class=\"node\"><title>E</title>\r\n",
       "<ellipse fill=\"none\" stroke=\"black\" cx=\"99\" cy=\"-18\" rx=\"27\" ry=\"18\"/>\r\n",
       "<text text-anchor=\"middle\" x=\"99\" y=\"-14.3\" font-family=\"Times New Roman,serif\" font-size=\"14.00\">e</text>\r\n",
       "</g>\r\n",
       "<!-- C&#45;&gt;E -->\r\n",
       "<g id=\"edge4\" class=\"edge\"><title>C&#45;&gt;E</title>\r\n",
       "<path fill=\"none\" stroke=\"black\" d=\"M71.3496,-72.7646C75.7115,-64.2831 81.1469,-53.7144 86.0413,-44.1974\"/>\r\n",
       "<polygon fill=\"black\" stroke=\"black\" points=\"89.2346,-45.6409 90.6957,-35.1473 83.0096,-42.4395 89.2346,-45.6409\"/>\r\n",
       "</g>\r\n",
       "</g>\r\n",
       "</svg>\r\n"
      ],
      "text/plain": [
       "<graphviz.dot.Digraph at 0x244e5d4ee08>"
      ]
     },
     "execution_count": 431,
     "metadata": {},
     "output_type": "execute_result"
    }
   ],
   "source": [
    "dot"
   ]
  },
  {
   "cell_type": "code",
   "execution_count": 432,
   "metadata": {},
   "outputs": [],
   "source": [
    "def plot_tree(tree, show_coeff=True, render=False, render_format='pdf', name=\"test\"):\n",
    "    \"\"\"takes in tree & creates graphviz (DOT language graph description). \n",
    "    \n",
    "    :param tree: Tree you want to visualize\n",
    "    \n",
    "    :param show_coeff: displays coefficients on nodes that have them\n",
    "    \n",
    "    :param render: exports the graph image if True\n",
    "    \n",
    "    :param render_format: Can choose png, pdf, svg, etc.\n",
    "    \n",
    "    :param name: Name of exported model\n",
    "    \"\"\"\n",
    "    \n",
    "    root = tree.get_root()\n",
    "    \n",
    "    dot = Digraph(comment=\"tree\")\n",
    "    dot.attr(rank='min')\n",
    "    # Create the nodes\n",
    "    for n in tree.node_list:\n",
    "        # if node is not leaf node, only display the operation (and coeff if applicable)\n",
    "        if n.num_children > 0:\n",
    "            if show_coeff:\n",
    "                if n.coeff is not None:\n",
    "                    dot.node(str(n.index), str(n.coeff)+'\\n'+str(n.op))\n",
    "                else:\n",
    "                    dot.node(str(n.index), n.op)\n",
    "            else:\n",
    "                dot.node(str(n.index), n.op)\n",
    "        # if leaf node, then display either the coeff, value, or coeff * value.\n",
    "        # Current implementation of nodes makes so that each node must contain either\n",
    "        # a constant coefficient or a variable, or both\n",
    "        else:\n",
    "            if n.coeff is not None and n.value is None:\n",
    "                dot.node(str(n.index), str(n.coeff))\n",
    "            elif n.coeff is not None and n.value is not None:\n",
    "                dot.node(str(n.index), str(n.coeff)+'*'+str(n.value))\n",
    "            elif n.coeff is None and n.value is not None:\n",
    "                dot.node(str(n.index), str(n.value))\n",
    "    \n",
    "    # For each node in tree, draw edges to its children\n",
    "    for n in tree.node_list:\n",
    "        if n.num_children > 0:\n",
    "            if n.left is not None:\n",
    "                dot.edge(str(n.index), str(n.left.index))\n",
    "            if n.right is not None:\n",
    "                dot.edge(str(n.index), str(n.right.index))\n",
    "    \n",
    "    # Export & display tree in separate window            \n",
    "    if render:\n",
    "        dot.format=render_format\n",
    "        dot.render('test-output/{}'.format(name), view=True)  \n",
    "    \n",
    "    return dot\n",
    "                \n",
    "    "
   ]
  },
  {
   "cell_type": "code",
   "execution_count": 433,
   "metadata": {},
   "outputs": [],
   "source": [
    "j = plot_tree(a, render=True, name=\"test-tree\", render_format='png')"
   ]
  },
  {
   "cell_type": "code",
   "execution_count": 434,
   "metadata": {
    "scrolled": true
   },
   "outputs": [
    {
     "data": {
      "image/svg+xml": [
       "<?xml version=\"1.0\" encoding=\"UTF-8\" standalone=\"no\"?>\r\n",
       "<!DOCTYPE svg PUBLIC \"-//W3C//DTD SVG 1.1//EN\"\r\n",
       " \"http://www.w3.org/Graphics/SVG/1.1/DTD/svg11.dtd\">\r\n",
       "<!-- Generated by graphviz version 2.38.0 (20140413.2041)\r\n",
       " -->\r\n",
       "<!-- Title: %3 Pages: 1 -->\r\n",
       "<svg width=\"238pt\" height=\"116pt\"\r\n",
       " viewBox=\"0.00 0.00 238.29 116.00\" xmlns=\"http://www.w3.org/2000/svg\" xmlns:xlink=\"http://www.w3.org/1999/xlink\">\r\n",
       "<g id=\"graph0\" class=\"graph\" transform=\"scale(1 1) rotate(0) translate(4 112)\">\r\n",
       "<title>%3</title>\r\n",
       "<polygon fill=\"white\" stroke=\"none\" points=\"-4,4 -4,-112 234.293,-112 234.293,4 -4,4\"/>\r\n",
       "<!-- 0 -->\r\n",
       "<g id=\"node1\" class=\"node\"><title>0</title>\r\n",
       "<ellipse fill=\"none\" stroke=\"black\" cx=\"141.293\" cy=\"-90\" rx=\"27\" ry=\"18\"/>\r\n",
       "<text text-anchor=\"middle\" x=\"141.293\" y=\"-86.3\" font-family=\"Times New Roman,serif\" font-size=\"14.00\">+</text>\r\n",
       "</g>\r\n",
       "<!-- 1 -->\r\n",
       "<g id=\"node2\" class=\"node\"><title>1</title>\r\n",
       "<ellipse fill=\"none\" stroke=\"black\" cx=\"79.293\" cy=\"-18\" rx=\"79.0865\" ry=\"18\"/>\r\n",
       "<text text-anchor=\"middle\" x=\"79.293\" y=\"-14.3\" font-family=\"Times New Roman,serif\" font-size=\"14.00\">2.56596015882272</text>\r\n",
       "</g>\r\n",
       "<!-- 0&#45;&gt;1 -->\r\n",
       "<g id=\"edge1\" class=\"edge\"><title>0&#45;&gt;1</title>\r\n",
       "<path fill=\"none\" stroke=\"black\" d=\"M128.144,-74.1548C120.213,-65.2002 109.917,-53.5756 100.824,-43.3088\"/>\r\n",
       "<polygon fill=\"black\" stroke=\"black\" points=\"103.414,-40.9543 94.1632,-35.789 98.1735,-45.5955 103.414,-40.9543\"/>\r\n",
       "</g>\r\n",
       "<!-- 2 -->\r\n",
       "<g id=\"node3\" class=\"node\"><title>2</title>\r\n",
       "<ellipse fill=\"none\" stroke=\"black\" cx=\"203.293\" cy=\"-18\" rx=\"27\" ry=\"18\"/>\r\n",
       "<text text-anchor=\"middle\" x=\"203.293\" y=\"-14.3\" font-family=\"Times New Roman,serif\" font-size=\"14.00\">x</text>\r\n",
       "</g>\r\n",
       "<!-- 0&#45;&gt;2 -->\r\n",
       "<g id=\"edge2\" class=\"edge\"><title>0&#45;&gt;2</title>\r\n",
       "<path fill=\"none\" stroke=\"black\" d=\"M154.442,-74.1548C162.826,-64.6885 173.853,-52.2384 183.309,-41.5628\"/>\r\n",
       "<polygon fill=\"black\" stroke=\"black\" points=\"186.153,-43.6303 190.163,-33.8238 180.913,-38.9891 186.153,-43.6303\"/>\r\n",
       "</g>\r\n",
       "</g>\r\n",
       "</svg>\r\n"
      ],
      "text/plain": [
       "<graphviz.dot.Digraph at 0x244e51257c8>"
      ]
     },
     "execution_count": 434,
     "metadata": {},
     "output_type": "execute_result"
    }
   ],
   "source": [
    "j"
   ]
  },
  {
   "cell_type": "code",
   "execution_count": 435,
   "metadata": {},
   "outputs": [
    {
     "data": {
      "text/plain": [
       "(2.56596015882272+x)"
      ]
     },
     "execution_count": 435,
     "metadata": {},
     "output_type": "execute_result"
    }
   ],
   "source": [
    "a"
   ]
  },
  {
   "cell_type": "code",
   "execution_count": 436,
   "metadata": {},
   "outputs": [
    {
     "data": {
      "text/plain": [
       "'test-output\\\\test-tree1.gv.png'"
      ]
     },
     "execution_count": 436,
     "metadata": {},
     "output_type": "execute_result"
    }
   ],
   "source": [
    "j.render('test-output/test-tree1.gv', view=True)  "
   ]
  },
  {
   "cell_type": "code",
   "execution_count": 437,
   "metadata": {},
   "outputs": [
    {
     "data": {
      "text/plain": [
       "'test-output\\\\test-tree1.png'"
      ]
     },
     "execution_count": 437,
     "metadata": {},
     "output_type": "execute_result"
    }
   ],
   "source": [
    "j.format='png'\n",
    "j.render('test-output/test-tree1', view=True)  "
   ]
  },
  {
   "cell_type": "code",
   "execution_count": 458,
   "metadata": {},
   "outputs": [],
   "source": [
    "#now must define a cycle function\n",
    "MATE=0.4            #proportion of total population chosen to mate\n",
    "MUTATE=0.5          #proportion of offspring that mutate\n",
    "INDIVIDUALS=100     #minimum number of individuals in a population\n",
    "#First define the population\n",
    "\n",
    "class Population:\n",
    "    def __init__(self, individuals, data, y):\n",
    "        self.individuals=individuals\n",
    "        if len(individuals) < INDIVIDUALS:\n",
    "            self.pop_size=INDIVIDUALS\n",
    "        else:\n",
    "            self.pop_size=len(individuals)\n",
    "        self.data = data\n",
    "        self.y = y\n",
    "        # Calculate fitness scores of initial population\n",
    "        self.scores = [individual.mse_fitness(self.data, self.y) \n",
    "             for individual in individuals]\n",
    "        self.best_ind = np.where(self.scores == np.max(self.scores))[0][0]\n",
    "        # used to compare best score of previous population to new population\n",
    "        self.last_best_func = self.individuals[self.best_ind]\n",
    "        \n",
    "    def get_best_func(self):\n",
    "        # Return current best candidate function\n",
    "        return self.individuals[self.best_ind]\n",
    "        \n",
    "    def new_pop(self, scores):\n",
    "        # Random weighted resampling of current population based on fitness\n",
    "        sum1 = np.sum(scores)\n",
    "        prob=scores/sum1\n",
    "        new_pop = np.random.choice(self.individuals, self.pop_size, p=prob, replace=True)\n",
    "        return new_pop\n",
    "        \n",
    "    def cycle(self):\n",
    "        new_pop = self.new_pop(self.scores)\n",
    "        # creates deep copies of chosen individuals to make new population\n",
    "        self.individuals = [copy.deepcopy(individual) for individual in new_pop]\n",
    "        # If mut_offspring is set to mutate only on offspring\n",
    "        mut_offspring=False\n",
    "        if mut_offspring:\n",
    "            mutate_ind = self.mate()\n",
    "        else:\n",
    "            # mutate whole population\n",
    "            self.mate()\n",
    "            mutate_ind = range(self.pop_size)\n",
    "        if len(mutate_ind) > 0:\n",
    "            self.mutate(mutate_ind)\n",
    "        self.scores = [individual.mse_fitness(self.data, self.y) \n",
    "             for individual in self.individuals]\n",
    "        current_best_ind = np.where(self.scores == np.max(self.scores))[0][0]\n",
    "        worst_score_ind = np.where(self.scores == np.min(self.scores))[0][0]\n",
    "        # If best score of current pop < previous pop, replace worst performing\n",
    "        # candidate with previous best candidate\n",
    "        if self.last_best_func.mse_fitness(self.data, self.y) > self.scores[current_best_ind]:\n",
    "            self.scores[worst_score_ind] = self.last_best_func.mse_fitness(self.data, self.y)\n",
    "            self.individuals[worst_score_ind] = self.last_best_func\n",
    "            self.best_ind = worst_score_ind\n",
    "        else:\n",
    "            self.best_ind = current_best_ind\n",
    "        self.last_best_func = self.individuals[self.best_ind]\n",
    "\n",
    "    def mate(self):\n",
    "        num_to_mate = int(len(self.individuals)*MATE)\n",
    "        if num_to_mate >= 2:\n",
    "            if num_to_mate % 2 == 1:\n",
    "                num_to_mate += 1    # Makes sure there is even number of parents\n",
    "            mating_ind = np.random.choice(len(self.individuals), num_to_mate, replace=False)\n",
    "            for i in range(len(mating_ind)//2):\n",
    "                swap_subtrees(self.individuals[2*i], self.individuals[2*i+1])\n",
    "            return mating_ind\n",
    "        return None\n",
    "                \n",
    "    def mutate(self, mutate_ind):\n",
    "        num_to_mutate = int(len(mutate_ind)*MUTATE)\n",
    "        mutate_ind = np.random.choice(mutate_ind, num_to_mutate, replace=False)\n",
    "        if len(mutate_ind) > 0:\n",
    "            for i in mutate_ind:\n",
    "                mut_choice = np.random.choice(self.individuals[i].node_list) # randomly choose a node to mutate\n",
    "                self.individuals[i].mutate_node(mut_choice)\n",
    "    \n",
    "    @staticmethod\n",
    "    def generate_individuals(n, num_vars, coeff_min, coeff_max, exp_min, exp_max, operators):\n",
    "        \"\"\"\n",
    "        Static method for generating initial population of size n from \n",
    "        a dataset with num_vars variables. Coefficient and exponential values of \n",
    "        chromosomes are randomly generated within a user-specified range. operators argument \n",
    "        contains list of strings that represent operators that can be used e.g. ['+', '-', '*'].\n",
    "        \"\"\"\n",
    "        indiv = []\n",
    "        if num_vars > 1 and len(operators) == 0:\n",
    "            raise ValueError(\"no operators\")\n",
    "        for i in range(n):\n",
    "            l = [np.random.uniform(low=coeff_min, high=coeff_max) for _ in range(num_vars)]\n",
    "            a = [np.random.randint(low=exp_min, high=exp_max) for _ in range(num_vars)]\n",
    "            m = np.random.choice(operators, len(l)-1)\n",
    "            indiv.append(Individual(l, a, m))\n",
    "        return indiv\n"
   ]
  },
  {
   "cell_type": "code",
   "execution_count": 390,
   "metadata": {},
   "outputs": [
    {
     "ename": "TypeError",
     "evalue": "argument of type 'type' is not iterable",
     "output_type": "error",
     "traceback": [
      "\u001b[1;31m---------------------------------------------------------------------------\u001b[0m",
      "\u001b[1;31mTypeError\u001b[0m                                 Traceback (most recent call last)",
      "\u001b[1;32m<ipython-input-390-4f1d82a00217>\u001b[0m in \u001b[0;36m<module>\u001b[1;34m\u001b[0m\n\u001b[0;32m      1\u001b[0m \u001b[0ms\u001b[0m \u001b[1;33m=\u001b[0m \u001b[1;34m\"a b c d\"\u001b[0m\u001b[1;33m\u001b[0m\u001b[1;33m\u001b[0m\u001b[0m\n\u001b[0;32m      2\u001b[0m \u001b[0md\u001b[0m \u001b[1;33m=\u001b[0m \u001b[1;33m[\u001b[0m\u001b[1;34m\"a\"\u001b[0m\u001b[1;33m,\u001b[0m \u001b[1;34m\"c\"\u001b[0m\u001b[1;33m]\u001b[0m\u001b[1;33m\u001b[0m\u001b[1;33m\u001b[0m\u001b[0m\n\u001b[1;32m----> 3\u001b[1;33m \u001b[0many\u001b[0m\u001b[1;33m(\u001b[0m\u001b[0mx\u001b[0m \u001b[1;32min\u001b[0m \u001b[0mstr\u001b[0m \u001b[1;32mfor\u001b[0m \u001b[0mx\u001b[0m \u001b[1;32min\u001b[0m \u001b[0md\u001b[0m\u001b[1;33m)\u001b[0m\u001b[1;33m\u001b[0m\u001b[1;33m\u001b[0m\u001b[0m\n\u001b[0m",
      "\u001b[1;32m<ipython-input-390-4f1d82a00217>\u001b[0m in \u001b[0;36m<genexpr>\u001b[1;34m(.0)\u001b[0m\n\u001b[0;32m      1\u001b[0m \u001b[0ms\u001b[0m \u001b[1;33m=\u001b[0m \u001b[1;34m\"a b c d\"\u001b[0m\u001b[1;33m\u001b[0m\u001b[1;33m\u001b[0m\u001b[0m\n\u001b[0;32m      2\u001b[0m \u001b[0md\u001b[0m \u001b[1;33m=\u001b[0m \u001b[1;33m[\u001b[0m\u001b[1;34m\"a\"\u001b[0m\u001b[1;33m,\u001b[0m \u001b[1;34m\"c\"\u001b[0m\u001b[1;33m]\u001b[0m\u001b[1;33m\u001b[0m\u001b[1;33m\u001b[0m\u001b[0m\n\u001b[1;32m----> 3\u001b[1;33m \u001b[0many\u001b[0m\u001b[1;33m(\u001b[0m\u001b[0mx\u001b[0m \u001b[1;32min\u001b[0m \u001b[0mstr\u001b[0m \u001b[1;32mfor\u001b[0m \u001b[0mx\u001b[0m \u001b[1;32min\u001b[0m \u001b[0md\u001b[0m\u001b[1;33m)\u001b[0m\u001b[1;33m\u001b[0m\u001b[1;33m\u001b[0m\u001b[0m\n\u001b[0m",
      "\u001b[1;31mTypeError\u001b[0m: argument of type 'type' is not iterable"
     ]
    }
   ],
   "source": [
    "s = \"a b c d\"\n",
    "d = [\"a\", \"c\"]\n",
    "any(x in str for x in d)"
   ]
  },
  {
   "cell_type": "code",
   "execution_count": 313,
   "metadata": {},
   "outputs": [
    {
     "ename": "SyntaxError",
     "evalue": "invalid syntax (<ipython-input-313-f12432e5bc69>, line 1)",
     "output_type": "error",
     "traceback": [
      "\u001b[1;36m  File \u001b[1;32m\"<ipython-input-313-f12432e5bc69>\"\u001b[1;36m, line \u001b[1;32m1\u001b[0m\n\u001b[1;33m    match = x for x in d if x in s\u001b[0m\n\u001b[1;37m                ^\u001b[0m\n\u001b[1;31mSyntaxError\u001b[0m\u001b[1;31m:\u001b[0m invalid syntax\n"
     ]
    }
   ],
   "source": [
    "match = x for x in d if x in s"
   ]
  },
  {
   "cell_type": "code",
   "execution_count": 314,
   "metadata": {},
   "outputs": [
    {
     "ename": "AttributeError",
     "evalue": "'generator' object has no attribute 'next'",
     "output_type": "error",
     "traceback": [
      "\u001b[1;31m---------------------------------------------------------------------------\u001b[0m",
      "\u001b[1;31mAttributeError\u001b[0m                            Traceback (most recent call last)",
      "\u001b[1;32m<ipython-input-314-cdd3f52b8533>\u001b[0m in \u001b[0;36m<module>\u001b[1;34m\u001b[0m\n\u001b[1;32m----> 1\u001b[1;33m \u001b[0mmatch\u001b[0m\u001b[1;33m.\u001b[0m\u001b[0mnext\u001b[0m\u001b[1;33m(\u001b[0m\u001b[1;33m)\u001b[0m\u001b[1;33m\u001b[0m\u001b[1;33m\u001b[0m\u001b[0m\n\u001b[0m",
      "\u001b[1;31mAttributeError\u001b[0m: 'generator' object has no attribute 'next'"
     ]
    }
   ],
   "source": [
    "match.next()"
   ]
  },
  {
   "cell_type": "code",
   "execution_count": 119,
   "metadata": {},
   "outputs": [
    {
     "ename": "AttributeError",
     "evalue": "'str' object has no attribute 'next'",
     "output_type": "error",
     "traceback": [
      "\u001b[1;31m---------------------------------------------------------------------------\u001b[0m",
      "\u001b[1;31mAttributeError\u001b[0m                            Traceback (most recent call last)",
      "\u001b[1;32m<ipython-input-119-cdd3f52b8533>\u001b[0m in \u001b[0;36m<module>\u001b[1;34m\u001b[0m\n\u001b[1;32m----> 1\u001b[1;33m \u001b[0mmatch\u001b[0m\u001b[1;33m.\u001b[0m\u001b[0mnext\u001b[0m\u001b[1;33m(\u001b[0m\u001b[1;33m)\u001b[0m\u001b[1;33m\u001b[0m\u001b[1;33m\u001b[0m\u001b[0m\n\u001b[0m",
      "\u001b[1;31mAttributeError\u001b[0m: 'str' object has no attribute 'next'"
     ]
    }
   ],
   "source": []
  },
  {
   "cell_type": "code",
   "execution_count": 149,
   "metadata": {},
   "outputs": [
    {
     "data": {
      "text/plain": [
       "['var1', 'var2']"
      ]
     },
     "execution_count": 149,
     "metadata": {},
     "output_type": "execute_result"
    }
   ],
   "source": [
    "import re\n",
    "from collections import OrderedDict\n",
    "\n",
    "text = \"{var1}*{var2}\"\n",
    "vare = [\"var2\", \"var1\"]\n",
    "x = [(text.find(i), i) for i in vare]\n",
    "x.sort(key=lambda x: x[0])\n",
    "[i[1] for i in x]"
   ]
  },
  {
   "cell_type": "code",
   "execution_count": 180,
   "metadata": {},
   "outputs": [],
   "source": [
    "import pandas as pd\n",
    "x = np.random.normal(size=6)\n",
    "y = np.random.normal(size=6)\n",
    "z = np.random.normal(size=6)\n",
    "data = pd.DataFrame(np.stack([x,y,z], axis=1), columns=['x','y','z'])\n",
    "out = x*y*z\n",
    "# pd.DataFrame.from_items(('x',x),('y',y),('z',z))"
   ]
  },
  {
   "cell_type": "code",
   "execution_count": 172,
   "metadata": {},
   "outputs": [
    {
     "data": {
      "text/html": [
       "<div>\n",
       "<style scoped>\n",
       "    .dataframe tbody tr th:only-of-type {\n",
       "        vertical-align: middle;\n",
       "    }\n",
       "\n",
       "    .dataframe tbody tr th {\n",
       "        vertical-align: top;\n",
       "    }\n",
       "\n",
       "    .dataframe thead th {\n",
       "        text-align: right;\n",
       "    }\n",
       "</style>\n",
       "<table border=\"1\" class=\"dataframe\">\n",
       "  <thead>\n",
       "    <tr style=\"text-align: right;\">\n",
       "      <th></th>\n",
       "      <th>x</th>\n",
       "      <th>y</th>\n",
       "    </tr>\n",
       "  </thead>\n",
       "  <tbody>\n",
       "    <tr>\n",
       "      <td>0</td>\n",
       "      <td>0.185329</td>\n",
       "      <td>-0.428953</td>\n",
       "    </tr>\n",
       "    <tr>\n",
       "      <td>1</td>\n",
       "      <td>0.963372</td>\n",
       "      <td>0.052529</td>\n",
       "    </tr>\n",
       "    <tr>\n",
       "      <td>2</td>\n",
       "      <td>0.105596</td>\n",
       "      <td>1.647807</td>\n",
       "    </tr>\n",
       "    <tr>\n",
       "      <td>3</td>\n",
       "      <td>-2.289425</td>\n",
       "      <td>-1.072307</td>\n",
       "    </tr>\n",
       "    <tr>\n",
       "      <td>4</td>\n",
       "      <td>-0.167720</td>\n",
       "      <td>-0.185245</td>\n",
       "    </tr>\n",
       "    <tr>\n",
       "      <td>5</td>\n",
       "      <td>-0.926094</td>\n",
       "      <td>2.006546</td>\n",
       "    </tr>\n",
       "  </tbody>\n",
       "</table>\n",
       "</div>"
      ],
      "text/plain": [
       "          x         y\n",
       "0  0.185329 -0.428953\n",
       "1  0.963372  0.052529\n",
       "2  0.105596  1.647807\n",
       "3 -2.289425 -1.072307\n",
       "4 -0.167720 -0.185245\n",
       "5 -0.926094  2.006546"
      ]
     },
     "execution_count": 172,
     "metadata": {},
     "output_type": "execute_result"
    }
   ],
   "source": [
    "data[['x','y']]"
   ]
  },
  {
   "cell_type": "code",
   "execution_count": 170,
   "metadata": {},
   "outputs": [
    {
     "ename": "SyntaxError",
     "evalue": "invalid syntax (<ipython-input-170-10603419911c>, line 1)",
     "output_type": "error",
     "traceback": [
      "\u001b[1;36m  File \u001b[1;32m\"<ipython-input-170-10603419911c>\"\u001b[1;36m, line \u001b[1;32m1\u001b[0m\n\u001b[1;33m    [i, v for i,v  in enumerate(data)]\u001b[0m\n\u001b[1;37m            ^\u001b[0m\n\u001b[1;31mSyntaxError\u001b[0m\u001b[1;31m:\u001b[0m invalid syntax\n"
     ]
    }
   ],
   "source": [
    "[i, v for i,v  in enumerate(data)]"
   ]
  },
  {
   "cell_type": "code",
   "execution_count": 171,
   "metadata": {},
   "outputs": [
    {
     "data": {
      "text/plain": [
       "[(0, 'x'), (1, 'y'), (2, 'z')]"
      ]
     },
     "execution_count": 171,
     "metadata": {},
     "output_type": "execute_result"
    }
   ],
   "source": [
    "[i for i in enumerate(data)]"
   ]
  },
  {
   "cell_type": "code",
   "execution_count": 411,
   "metadata": {},
   "outputs": [
    {
     "name": "stdout",
     "output_type": "stream",
     "text": [
      "0 x    1.163445\n",
      "y   -0.125465\n",
      "z    0.487278\n",
      "Name: 0, dtype: float64\n",
      "1 x    0.989796\n",
      "y   -0.097551\n",
      "z    0.805215\n",
      "Name: 1, dtype: float64\n",
      "2 x   -0.381886\n",
      "y   -0.700889\n",
      "z    1.974620\n",
      "Name: 2, dtype: float64\n",
      "3 x    1.110349\n",
      "y   -0.222549\n",
      "z   -0.369666\n",
      "Name: 3, dtype: float64\n",
      "4 x   -0.705496\n",
      "y   -0.765244\n",
      "z    0.309839\n",
      "Name: 4, dtype: float64\n",
      "5 x   -0.507317\n",
      "y    0.334338\n",
      "z    1.626804\n",
      "Name: 5, dtype: float64\n",
      "(sin((((y+1.2728501873998646)+x)+(y+x)))+(y+y))\n",
      "(sin((((y+1.2728501873998646)+x)+(y+x)))+(y+y))\n"
     ]
    }
   ],
   "source": [
    "for index, row in data.iterrows():\n",
    "    print(index, row)\n",
    "ddd = b.__repr__()\n",
    "print(ddd)\n",
    "da = ddd.replace(\"z\", \"asdf\")\n",
    "print(da)"
   ]
  },
  {
   "cell_type": "code",
   "execution_count": 459,
   "metadata": {},
   "outputs": [],
   "source": [
    "for i in range(1000):\n",
    "    b.mse_fitness(data, y)"
   ]
  },
  {
   "cell_type": "code",
   "execution_count": 460,
   "metadata": {},
   "outputs": [],
   "source": [
    "#test to initialize Population\n",
    "c=[0.1, 0.2]\n",
    "c.append(1-sum(c))\n",
    "individuals=[]\n",
    "for i in range(1000):\n",
    "    a=bin_tree(delta=0.12)\n",
    "    a.generate_tree(a.get_root(), c)\n",
    "    individuals.append(a)\n",
    "pop = Population(individuals, data, out)"
   ]
  },
  {
   "cell_type": "code",
   "execution_count": 461,
   "metadata": {},
   "outputs": [],
   "source": [
    "#test cycle\n",
    "pop.cycle()"
   ]
  },
  {
   "cell_type": "code",
   "execution_count": 379,
   "metadata": {},
   "outputs": [
    {
     "data": {
      "text/plain": [
       "2.714358861103283"
      ]
     },
     "execution_count": 379,
     "metadata": {},
     "output_type": "execute_result"
    }
   ],
   "source": [
    "a"
   ]
  },
  {
   "cell_type": "code",
   "execution_count": 380,
   "metadata": {},
   "outputs": [
    {
     "data": {
      "text/plain": [
       "((x+((y+z)+(x+((1.7206374831977884+(2.476558580004338+y))+x))))+cos((3.1410354443450763+z)))"
      ]
     },
     "execution_count": 380,
     "metadata": {},
     "output_type": "execute_result"
    }
   ],
   "source": [
    "b"
   ]
  },
  {
   "cell_type": "code",
   "execution_count": 382,
   "metadata": {},
   "outputs": [
    {
     "data": {
      "text/plain": [
       "[0.1, 0.2, 0.7]"
      ]
     },
     "execution_count": 382,
     "metadata": {},
     "output_type": "execute_result"
    }
   ],
   "source": [
    "b.node_list[0].probs"
   ]
  },
  {
   "cell_type": "code",
   "execution_count": null,
   "metadata": {},
   "outputs": [],
   "source": []
  }
 ],
 "metadata": {
  "kernelspec": {
   "display_name": "Python 3",
   "language": "python",
   "name": "python3"
  },
  "language_info": {
   "codemirror_mode": {
    "name": "ipython",
    "version": 3
   },
   "file_extension": ".py",
   "mimetype": "text/x-python",
   "name": "python",
   "nbconvert_exporter": "python",
   "pygments_lexer": "ipython3",
   "version": "3.7.4"
  }
 },
 "nbformat": 4,
 "nbformat_minor": 2
}
